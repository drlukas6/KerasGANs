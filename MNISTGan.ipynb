{
 "cells": [
  {
   "cell_type": "code",
   "execution_count": 1,
   "metadata": {
    "colab": {},
    "colab_type": "code",
    "id": "HppaWbo4r_yH"
   },
   "outputs": [
    {
     "name": "stderr",
     "output_type": "stream",
     "text": [
      "/usr/local/lib/python3.6/dist-packages/h5py/__init__.py:36: FutureWarning: Conversion of the second argument of issubdtype from `float` to `np.floating` is deprecated. In future, it will be treated as `np.float64 == np.dtype(float).type`.\n",
      "  from ._conv import register_converters as _register_converters\n",
      "Using TensorFlow backend.\n"
     ]
    }
   ],
   "source": [
    "from keras.datasets import mnist\n",
    "import numpy as np\n",
    "\n",
    "(x_train, _), (x_test, _) = mnist.load_data()\n",
    "\n",
    "\n",
    "x_train = x_train.astype('float32') / 255.\n",
    "x_test = x_test.astype('float32') / 255.\n",
    "\n",
    "X_mnist_train = x_train.reshape((len(x_train), 28, 28, 1))\n",
    "X_mnist_test = x_test.reshape((len(x_test), 28, 28, 1))"
   ]
  },
  {
   "cell_type": "markdown",
   "metadata": {
    "colab_type": "text",
    "id": "Y4WvQSq0r_yW"
   },
   "source": [
    "## Defining a discriminator\n",
    "High level explanation of a discriminator is simple classifier whose job is to differentiate between real and fake MNIST digits. Fake images being from our generator\n",
    "\n",
    "* Instead of using Max/AvgPooling layers increased stride acts as a downsampler"
   ]
  },
  {
   "cell_type": "code",
   "execution_count": 2,
   "metadata": {
    "colab": {
     "base_uri": "https://localhost:8080/",
     "height": 459
    },
    "colab_type": "code",
    "id": "oeN-8yjrr_yb",
    "outputId": "d81236f3-9a29-4657-fae7-76b9cb49690d"
   },
   "outputs": [
    {
     "name": "stdout",
     "output_type": "stream",
     "text": [
      "_________________________________________________________________\n",
      "Layer (type)                 Output Shape              Param #   \n",
      "=================================================================\n",
      "input_1 (InputLayer)         (None, 28, 28, 1)         0         \n",
      "_________________________________________________________________\n",
      "conv2d_1 (Conv2D)            (None, 14, 14, 64)        640       \n",
      "_________________________________________________________________\n",
      "leaky_re_lu_1 (LeakyReLU)    (None, 14, 14, 64)        0         \n",
      "_________________________________________________________________\n",
      "dropout_1 (Dropout)          (None, 14, 14, 64)        0         \n",
      "_________________________________________________________________\n",
      "conv2d_2 (Conv2D)            (None, 7, 7, 64)          36928     \n",
      "_________________________________________________________________\n",
      "leaky_re_lu_2 (LeakyReLU)    (None, 7, 7, 64)          0         \n",
      "_________________________________________________________________\n",
      "dropout_2 (Dropout)          (None, 7, 7, 64)          0         \n",
      "_________________________________________________________________\n",
      "flatten_1 (Flatten)          (None, 3136)              0         \n",
      "_________________________________________________________________\n",
      "dense_1 (Dense)              (None, 1)                 3137      \n",
      "=================================================================\n",
      "Total params: 40,705\n",
      "Trainable params: 40,705\n",
      "Non-trainable params: 0\n",
      "_________________________________________________________________\n"
     ]
    }
   ],
   "source": [
    "from keras.layers import Input, Dense, Conv2D, LeakyReLU, Dropout, Flatten\n",
    "from keras.models import Model\n",
    "from keras.optimizers import Adam\n",
    "\n",
    "def discriminator_model(input_shape = (28, 28, 1)) -> Model:\n",
    "    \n",
    "    network_input = Input(shape=input_shape)\n",
    "    \n",
    "    layer = Conv2D(64, (3, 3), strides=(2, 2), padding='same')(network_input)\n",
    "    layer = LeakyReLU(alpha=0.2)(layer)\n",
    "    layer = Dropout(0.4)(layer)\n",
    "    layer = Conv2D(64, (3, 3), strides=(2, 2), padding='same')(layer)\n",
    "    layer = LeakyReLU(alpha=0.2)(layer)\n",
    "    layer = Dropout(0.4)(layer)\n",
    "    layer = Flatten()(layer)\n",
    "    layer = Dense(1, activation='sigmoid')(layer)\n",
    "    \n",
    "    model = Model(network_input, layer)\n",
    "    \n",
    "    adam = Adam(lr=0.0002, beta_1=0.5)\n",
    "    model.compile(optimizer=adam, loss='binary_crossentropy', metrics=['accuracy'])\n",
    "    \n",
    "    return model\n",
    "\n",
    "discriminator = discriminator_model()\n",
    "discriminator.summary()"
   ]
  },
  {
   "cell_type": "markdown",
   "metadata": {
    "colab_type": "text",
    "id": "zP0FHBkPr_yh"
   },
   "source": [
    "## Generating a REAL + FAKE dataset\n",
    "MNIST dataset gave us real images, but our model requires fake models to differentiate from real ones"
   ]
  },
  {
   "cell_type": "code",
   "execution_count": 3,
   "metadata": {
    "colab": {},
    "colab_type": "code",
    "id": "nZJ2Y7tAr_yi"
   },
   "outputs": [],
   "source": [
    "def generate_real_samples(dataset: np.ndarray, n_samples: int) -> (np.ndarray, np.ndarray):\n",
    "    \n",
    "    random_sample_indexes = np.random.randint(0, dataset.shape[0], n_samples)\n",
    "    random_samples = x_train[random_sample_indexes]\n",
    "    \n",
    "    random_samples = random_samples.reshape((n_samples, 28, 28, 1))\n",
    "    \n",
    "    return (random_samples, np.ones((n_samples, 1)))\n",
    "\n",
    "\n",
    "def generate_fake_samples(n_samples: int) -> (np.ndarray, np.ndarray):\n",
    "    \n",
    "    X = np.random.rand(28 * 28 * n_samples)\n",
    "    X = X.reshape((n_samples, 28, 28, 1))\n",
    "    \n",
    "    return (X, np.zeros((n_samples, 1)))"
   ]
  },
  {
   "cell_type": "code",
   "execution_count": 4,
   "metadata": {
    "colab": {},
    "colab_type": "code",
    "id": "Itv3zozrr_yo"
   },
   "outputs": [],
   "source": [
    "import matplotlib.pyplot as plt"
   ]
  },
  {
   "cell_type": "code",
   "execution_count": 5,
   "metadata": {
    "colab": {
     "base_uri": "https://localhost:8080/",
     "height": 129
    },
    "colab_type": "code",
    "id": "uBJk332pr_yr",
    "outputId": "dacb220e-888d-49e7-e7b3-48bfdb261b5c"
   },
   "outputs": [
    {
     "data": {
      "image/png": "[encoded data removed]",
      "text/plain": [
       "<Figure size 1440x1440 with 10 Axes>"
      ]
     },
     "metadata": {},
     "output_type": "display_data"
    }
   ],
   "source": [
    "fake_images, _ = generate_fake_samples(10)\n",
    "\n",
    "plt.figure(figsize=(20, 20))\n",
    "for i in range(10):\n",
    "    ax = plt.subplot(1, 10, i + 1)\n",
    "    plt.imshow(fake_images[i].reshape((28, 28)))\n",
    "    plt.gray()\n",
    "    ax.get_xaxis().set_visible(False)\n",
    "    ax.get_yaxis().set_visible(False)\n",
    "\n",
    "plt.show()"
   ]
  },
  {
   "cell_type": "markdown",
   "metadata": {
    "colab_type": "text",
    "id": "-WFkQr8Or_yu"
   },
   "source": [
    "## About the discriminator\n",
    "* Since we defined the architecture of the discriminator we are going to train it sequentaly with the whole GAN, not by itself\n",
    "\n",
    "## Defining a generator"
   ]
  },
  {
   "cell_type": "code",
   "execution_count": 6,
   "metadata": {
    "colab": {},
    "colab_type": "code",
    "id": "f1txocENr_yv"
   },
   "outputs": [],
   "source": [
    "from keras.layers import Reshape, Conv2DTranspose"
   ]
  },
  {
   "cell_type": "code",
   "execution_count": 7,
   "metadata": {
    "colab": {},
    "colab_type": "code",
    "id": "y1uMcaMOr_y0"
   },
   "outputs": [],
   "source": [
    "def generator_model(latent_dim: int) -> Model:\n",
    "    \n",
    "    network_input = Input(shape=(latent_dim,))\n",
    "    \n",
    "    layer = Dense(128 * 7 * 7)(network_input)\n",
    "    layer = LeakyReLU(alpha=0.2)(layer)\n",
    "    layer = Reshape((7, 7, 128))(layer)\n",
    "    layer = Conv2DTranspose(128, (4, 4), strides=(2, 2), padding='same')(layer)\n",
    "    layer = LeakyReLU(alpha=0.2)(layer)\n",
    "    layer = Conv2DTranspose(128, (4, 4), strides=(2, 2), padding='same')(layer)\n",
    "    layer = LeakyReLU(alpha=0.2)(layer)\n",
    "    layer = Conv2D(1, (7, 7), activation='sigmoid', padding='same')(layer)\n",
    "    \n",
    "    model =  Model(network_input, layer)\n",
    "        \n",
    "    return model"
   ]
  },
  {
   "cell_type": "code",
   "execution_count": 8,
   "metadata": {
    "colab": {
     "base_uri": "https://localhost:8080/",
     "height": 459
    },
    "colab_type": "code",
    "id": "xH2SOzEMr_y7",
    "outputId": "240fda8d-59c3-4323-d9d3-13c310f85613"
   },
   "outputs": [
    {
     "name": "stdout",
     "output_type": "stream",
     "text": [
      "_________________________________________________________________\n",
      "Layer (type)                 Output Shape              Param #   \n",
      "=================================================================\n",
      "input_2 (InputLayer)         (None, 100)               0         \n",
      "_________________________________________________________________\n",
      "dense_2 (Dense)              (None, 6272)              633472    \n",
      "_________________________________________________________________\n",
      "leaky_re_lu_3 (LeakyReLU)    (None, 6272)              0         \n",
      "_________________________________________________________________\n",
      "reshape_1 (Reshape)          (None, 7, 7, 128)         0         \n",
      "_________________________________________________________________\n",
      "conv2d_transpose_1 (Conv2DTr (None, 14, 14, 128)       262272    \n",
      "_________________________________________________________________\n",
      "leaky_re_lu_4 (LeakyReLU)    (None, 14, 14, 128)       0         \n",
      "_________________________________________________________________\n",
      "conv2d_transpose_2 (Conv2DTr (None, 28, 28, 128)       262272    \n",
      "_________________________________________________________________\n",
      "leaky_re_lu_5 (LeakyReLU)    (None, 28, 28, 128)       0         \n",
      "_________________________________________________________________\n",
      "conv2d_3 (Conv2D)            (None, 28, 28, 1)         6273      \n",
      "=================================================================\n",
      "Total params: 1,164,289\n",
      "Trainable params: 1,164,289\n",
      "Non-trainable params: 0\n",
      "_________________________________________________________________\n"
     ]
    }
   ],
   "source": [
    "generator = generator_model(100)\n",
    "generator.summary()"
   ]
  },
  {
   "cell_type": "code",
   "execution_count": 9,
   "metadata": {
    "colab": {},
    "colab_type": "code",
    "id": "dFn0w__jr_zA"
   },
   "outputs": [],
   "source": [
    "def generate_latent_points(latent_dim: int, n_samples: int) -> np.ndarray:\n",
    "    \n",
    "    x_input = np.random.randn(latent_dim * n_samples)\n",
    "    x_input = x_input.reshape(n_samples, latent_dim)\n",
    "    \n",
    "    return x_input"
   ]
  },
  {
   "cell_type": "code",
   "execution_count": 10,
   "metadata": {
    "colab": {},
    "colab_type": "code",
    "id": "LDZGWmOdr_zE"
   },
   "outputs": [],
   "source": [
    "def generate_fake_generator_samples(generator: Model, latent_dim: int, n_samples: int) -> (np.ndarray, np.ndarray):\n",
    "    \n",
    "    x_input = generate_latent_points(latent_dim, n_samples)\n",
    "    \n",
    "    X = generator.predict(x_input)\n",
    "    \n",
    "    y = np.zeros((n_samples, 1)) # Zeros because we want to convince the generator that these are fakes\n",
    "    \n",
    "    return X, y"
   ]
  },
  {
   "cell_type": "markdown",
   "metadata": {
    "colab_type": "text",
    "id": "oEjUy4x3r_zG"
   },
   "source": [
    "### Initial generator examples"
   ]
  },
  {
   "cell_type": "code",
   "execution_count": 11,
   "metadata": {
    "colab": {
     "base_uri": "https://localhost:8080/",
     "height": 129
    },
    "colab_type": "code",
    "id": "dRg90RtEr_zI",
    "outputId": "82ec1ce0-7412-40cd-f446-14a900f9c846"
   },
   "outputs": [
    {
     "data": {
      "image/png": "[encoded data removed]",
      "text/plain": [
       "<Figure size 1440x1440 with 10 Axes>"
      ]
     },
     "metadata": {},
     "output_type": "display_data"
    }
   ],
   "source": [
    "initial_generator_samples, _ = generate_fake_generator_samples(generator, 100, 10)\n",
    "\n",
    "plt.figure(figsize=(20, 20))\n",
    "for i in range(10):\n",
    "    ax = plt.subplot(1, 10, i + 1)\n",
    "    plt.imshow(initial_generator_samples[i].reshape((28, 28)))\n",
    "    plt.gray()\n",
    "    ax.get_xaxis().set_visible(False)\n",
    "    ax.get_yaxis().set_visible(False)\n",
    "\n",
    "plt.show()"
   ]
  },
  {
   "cell_type": "markdown",
   "metadata": {
    "colab_type": "text",
    "id": "Cy_uXov2r_zQ"
   },
   "source": [
    "## Defining a GAN"
   ]
  },
  {
   "cell_type": "code",
   "execution_count": 12,
   "metadata": {
    "colab": {},
    "colab_type": "code",
    "id": "O26Ksgopr_zR"
   },
   "outputs": [],
   "source": [
    "from keras.models import Sequential"
   ]
  },
  {
   "cell_type": "code",
   "execution_count": 13,
   "metadata": {
    "colab": {},
    "colab_type": "code",
    "id": "UAzsC9Vur_zV"
   },
   "outputs": [],
   "source": [
    "def define_gan(g_model: Model, d_model: Model) -> Model:\n",
    "    \n",
    "    d_model.trainable = False\n",
    "    \n",
    "    model = Sequential()\n",
    "    \n",
    "    model.add(g_model)\n",
    "    \n",
    "    model.add(d_model)\n",
    "    \n",
    "    opt = Adam(lr=0.0002, beta_1=0.5)\n",
    "    \n",
    "    model.compile(loss='binary_crossentropy', optimizer=opt, metrics=['accuracy'])\n",
    "    \n",
    "    return model"
   ]
  },
  {
   "cell_type": "code",
   "execution_count": 14,
   "metadata": {
    "colab": {
     "base_uri": "https://localhost:8080/",
     "height": 221
    },
    "colab_type": "code",
    "id": "Bsg7B4lMr_zY",
    "outputId": "17bcd878-8349-427f-d91e-e74b5b8a1f89"
   },
   "outputs": [
    {
     "name": "stdout",
     "output_type": "stream",
     "text": [
      "_________________________________________________________________\n",
      "Layer (type)                 Output Shape              Param #   \n",
      "=================================================================\n",
      "model_2 (Model)              (None, 28, 28, 1)         1164289   \n",
      "_________________________________________________________________\n",
      "model_1 (Model)              (None, 1)                 40705     \n",
      "=================================================================\n",
      "Total params: 1,204,994\n",
      "Trainable params: 1,164,289\n",
      "Non-trainable params: 40,705\n",
      "_________________________________________________________________\n"
     ]
    }
   ],
   "source": [
    "gan_model = define_gan(generator, discriminator)\n",
    "gan_model.summary()"
   ]
  },
  {
   "cell_type": "markdown",
   "metadata": {
    "colab_type": "text",
    "id": "8fUtyHlCr_zb"
   },
   "source": [
    "## Training the GAN model"
   ]
  },
  {
   "cell_type": "code",
   "execution_count": 15,
   "metadata": {
    "colab": {},
    "colab_type": "code",
    "id": "8wYPjFe4r_zb"
   },
   "outputs": [],
   "source": [
    "def test_generator(generator: Model, data: np.ndarray):\n",
    "    \n",
    "    generator_output = generator.predict(data)\n",
    "    plt.figure(figsize=(20, 20))\n",
    "    for i in range(10):\n",
    "        ax = plt.subplot(1, 10, i + 1)\n",
    "        plt.imshow(generator_output[i].reshape((28, 28)))\n",
    "        plt.gray()\n",
    "        ax.get_xaxis().set_visible(False)\n",
    "        ax.get_yaxis().set_visible(False)\n",
    "\n",
    "    plt.show()"
   ]
  },
  {
   "cell_type": "code",
   "execution_count": 16,
   "metadata": {},
   "outputs": [
    {
     "name": "stdout",
     "output_type": "stream",
     "text": [
      "Disc metrics: ['loss', 'acc']\n",
      "GAN metrics: ['loss', 'acc']\n"
     ]
    }
   ],
   "source": [
    "print(f'Disc metrics: {discriminator.metrics_names}')\n",
    "print(f'GAN metrics: {gan_model.metrics_names}')"
   ]
  },
  {
   "cell_type": "markdown",
   "metadata": {},
   "source": [
    "### Setting up tensorboard"
   ]
  },
  {
   "cell_type": "code",
   "execution_count": 19,
   "metadata": {},
   "outputs": [],
   "source": [
    "from keras.callbacks import TensorBoard, Callback\n",
    "import tensorflow as tf\n",
    "import io"
   ]
  },
  {
   "cell_type": "code",
   "execution_count": 59,
   "metadata": {},
   "outputs": [],
   "source": [
    "class image_writer(Callback):\n",
    "    \n",
    "    def __init__(self, log_dir: str, latent_dim: int):\n",
    "        self.noise = generate_latent_points(latent_dim, 5)\n",
    "#         self.file_writer = tf.summary.FileWriter(log_dir)\n",
    "        self.log_dir = log_dir\n",
    "        \n",
    "    def on_epoch_end(self, epoch, logs=None):\n",
    "        \n",
    "        if epoch % 5 != 0:\n",
    "            return\n",
    "        \n",
    "        epoch_output = self.model.predict(self.noise)\n",
    "        \n",
    "        figure = plt.figure(figsize=(25, 5))\n",
    "        for i in range(5):\n",
    "            ax = plt.subplot(1, 10, i + 1)\n",
    "            plt.imshow(epoch_output[i].reshape((28, 28)))\n",
    "            plt.gray()\n",
    "            ax.get_xaxis().set_visible(False)\n",
    "            ax.get_yaxis().set_visible(False)\n",
    "\n",
    "        plt.savefig(f'{self.log_dir}/generated_digits_{epoch}.png', bbox_inches='tight')\n",
    "#         buf = io.BytesIO()\n",
    "#         plt.savefig(buf, format='png')\n",
    "#         image_string = buf.getvalue()\n",
    "#         plt.close(figure)\n",
    "        \n",
    "#         image = tf.Summary.Image(height=28,\n",
    "#                                  width=28,\n",
    "#                                  colorspace=1,\n",
    "#                                  encoded_image_string=image_string)\n",
    "        \n",
    "# #         loss = tf.summary.scalar('loss', logs['loss'])\n",
    "# #         val_loss = tf.summary.scalar('loss', logs['val_loss'])\n",
    "# #         acc = tf.summary.scalar('loss', logs['acc'])\n",
    "# #         val_acc = tf.summary.scalar('loss', logs['val_acc'])\n",
    "        \n",
    "#         summary = tf.Summary(value=[tf.Summary.Value(image=image)])\n",
    "# #         summary2 = tf.Summary(value=[tf.Summary.Value(scalar=loss)])\n",
    "# #         summary3 = tf.Summary(value=[tf.Summary.Value(scalar=val_loss)])\n",
    "# #         summary4 = tf.Summary(value=[tf.Summary.Value(scalar=acc)])\n",
    "# #         summary5 = tf.Summary(value=[tf.Summary.Value(scalar=val_acc)])\n",
    "#         self.file_writer.add_summary(summary, epoch)\n",
    "# #         self.file_writer.add_summary(summary2, epoch)\n",
    "# #         self.file_writer.add_summary(summary3, epoch)\n",
    "# #         self.file_writer.add_summary(summary4, epoch)\n",
    "# #         self.file_writer.add_summary(summary5, epoch)\n",
    "# #         self.file_writer.add_summary(loss, epoch)\n",
    "# #         self.file_writer.add_summary(val_loss, epoch)\n",
    "# #         self.file_writer.add_summary(val_acc, epoch)"
   ]
  },
  {
   "cell_type": "code",
   "execution_count": 60,
   "metadata": {},
   "outputs": [],
   "source": [
    "def tensorboard(log_dir, batch_size: int, model: Model) -> TensorBoard:\n",
    "    \n",
    "    _tensorboard = TensorBoard(log_dir=log_dir,\n",
    "                               histogram_freq=0,\n",
    "                               batch_size=batch_size,\n",
    "                               write_graph=True, \n",
    "                               write_grads=True)\n",
    "    \n",
    "    _tensorboard.set_model(model)\n",
    "    \n",
    "    print(f'Initialized Tensorboard with logdir={log_dir}')\n",
    "    \n",
    "    return _tensorboard\n",
    "\n",
    "\n",
    "\n",
    "def named_logs(model: Model, logs) -> dict:\n",
    "    # Creates a dictionary mapping model metrics to log data\n",
    "    # eg. for GAN metrics are ['loss', 'acc'], so logs should be eg. [0.23, 0.95]\n",
    "    \n",
    "    result = {}\n",
    "    \n",
    "    for metric, value in zip(model.metrics_names, logs):\n",
    "        result[metric] = value\n",
    "    \n",
    "    return result\n",
    "\n",
    "def named_logs(metrics: list, logs: list) -> dict:\n",
    "    # Creates a dictionary mapping metrics to log data\n",
    "    # eg. for GAN metrics are ['loss', 'acc'], so logs should be eg. [0.23, 0.95]\n",
    "    \n",
    "    result = {}\n",
    "    \n",
    "    for metric, value in zip(metrics, logs):\n",
    "        result[metric] = value\n",
    "    \n",
    "    return result\n",
    "\n",
    "def s_named_logs(metrics:list, logs: list) -> str:\n",
    "        \n",
    "        logs = named_logs(metrics, logs)\n",
    "        \n",
    "        return ', '.join([f'{key}: {val}' for key, val in logs.items()])"
   ]
  },
  {
   "cell_type": "markdown",
   "metadata": {},
   "source": [
    "### Restarting models"
   ]
  },
  {
   "cell_type": "code",
   "execution_count": 67,
   "metadata": {},
   "outputs": [],
   "source": [
    "discriminator = discriminator_model()\n",
    "generator = generator_model(200)\n",
    "gan_model = define_gan(generator, discriminator)"
   ]
  },
  {
   "cell_type": "code",
   "execution_count": 68,
   "metadata": {
    "colab": {},
    "colab_type": "code",
    "id": "a3f_WnU7r_zd"
   },
   "outputs": [],
   "source": [
    "def train(name: str, g_model: Model, d_model: Model, gan_model: Model, dataset: np.ndarray, latent_dim: int, n_epochs=100, n_batch=256):\n",
    "    \n",
    "    batches_per_epoch = int(dataset.shape[0] / n_epochs)\n",
    "    half_batch = int(n_batch / 2)\n",
    "\n",
    "    log_path = f'tf_logs/{name}'\n",
    "    \n",
    "    _tensorboard = tensorboard(log_path, n_batch, gan_model)\n",
    "    image_vis = image_writer(log_path, latent_dim)\n",
    "    image_vis.set_model(g_model)\n",
    "    \n",
    "    metrics = ['loss', 'acc', 'val_loss', 'val_acc']\n",
    "    \n",
    "    test_data = generate_latent_points(latent_dim, 10)\n",
    "    \n",
    "    for i in range(n_epochs):\n",
    "        for j in range(batches_per_epoch):\n",
    "            \n",
    "            X_real, y_real = generate_real_samples(dataset, half_batch)\n",
    "            X_fake, y_fake = generate_fake_generator_samples(g_model, latent_dim, half_batch)\n",
    "            \n",
    "            X, y = np.vstack((X_real, X_fake)), np.vstack((y_real, y_fake))\n",
    "            d_loss, d_acc = d_model.train_on_batch(X, y)\n",
    "            \n",
    "            X_gan = generate_latent_points(latent_dim, n_batch)\n",
    "            \n",
    "            y_gan = np.ones((n_batch, 1))\n",
    "            \n",
    "            # List of scalars loss, acc\n",
    "            # This is the model we are most interested in learning so\n",
    "            # its progress is going to be tracked with Tensorboard\n",
    "            gan_loss, gan_acc = gan_model.train_on_batch(X_gan, y_gan)\n",
    "            \n",
    "            X_val_gan = generate_latent_points(latent_dim, n_batch)\n",
    "            \n",
    "            y_val_gan = np.ones((n_batch, 1))\n",
    "            \n",
    "            gan_val_loss, gan_val_acc = gan_model.test_on_batch(X_val_gan, y_val_gan)\n",
    "            \n",
    "            gan_logs =  [gan_loss, gan_acc, gan_val_loss, gan_val_acc]\n",
    "            gan_logs_dic = s_named_logs(metrics, gan_logs)\n",
    "            \n",
    "            if (j) % 3 == 0:\n",
    "                print('.', end='')\n",
    "            if (j + 1) % batches_per_epoch == 0:\n",
    "                print(f'{i+1}, d_loss={d_loss}, d_acc={d_acc}, gan={gan_logs_dic}')\n",
    "        \n",
    "                \n",
    "        print('epoch over, writing callbacks')\n",
    "        \n",
    "        _tensorboard.on_epoch_end(i + 1, named_logs(metrics, gan_logs))\n",
    "        image_vis.on_epoch_end(i + 1)\n",
    "\n",
    "        \n",
    "#         if (i + 1) % 5 == 0:\n",
    "#             test_generator(g_model, test_data)"
   ]
  },
  {
   "cell_type": "code",
   "execution_count": 69,
   "metadata": {
    "colab": {
     "base_uri": "https://localhost:8080/",
     "height": 1000
    },
    "colab_type": "code",
    "id": "ngjLHumsr_zf",
    "outputId": "067ab86f-70a1-467e-9727-5b4446e292be"
   },
   "outputs": [
    {
     "name": "stdout",
     "output_type": "stream",
     "text": [
      "Initialized Tensorboard with logdir=tf_logs/latent_dim_200\n"
     ]
    },
    {
     "name": "stderr",
     "output_type": "stream",
     "text": [
      "/usr/local/lib/python3.6/dist-packages/keras/engine/training.py:973: UserWarning: Discrepancy between trainable weights and collected trainable weights, did you set `model.trainable` without calling `model.compile` after ?\n",
      "  'Discrepancy between trainable weights and collected trainable'\n"
     ]
    },
    {
     "name": "stdout",
     "output_type": "stream",
     "text": [
      "...............................................................................................1, d_loss=0.8713910579681396, d_acc=0.4140625, gan=loss: 0.8363760709762573, acc: 0.28515625, val_loss: 0.8071130514144897, val_acc: 0.08203125\n",
      "epoch over, writing callbacks\n",
      "...............................................................................................2, d_loss=0.7080962657928467, d_acc=0.52734375, gan=loss: 0.7006638646125793, acc: 0.49609375, val_loss: 0.6750544905662537, val_acc: 0.5546875\n",
      "epoch over, writing callbacks\n",
      "...............................................................................................3, d_loss=0.6325334906578064, d_acc=0.7109375, gan=loss: 0.8179144263267517, acc: 0.171875, val_loss: 0.7887462973594666, val_acc: 0.09765625\n",
      "epoch over, writing callbacks\n",
      "...............................................................................................4, d_loss=0.7058820128440857, d_acc=0.4140625, gan=loss: 0.6933209300041199, acc: 0.53125, val_loss: 0.6832354068756104, val_acc: 0.5859375\n",
      "epoch over, writing callbacks\n",
      "...............................................................................................5, d_loss=0.6666263937950134, d_acc=0.61328125, gan=loss: 0.7505335807800293, acc: 0.3046875, val_loss: 0.732998788356781, val_acc: 0.20703125\n",
      "epoch over, writing callbacks\n",
      "...............................................................................................6, d_loss=0.6874807476997375, d_acc=0.54296875, gan=loss: 0.7169178128242493, acc: 0.390625, val_loss: 0.7094916701316833, val_acc: 0.31640625\n",
      "epoch over, writing callbacks\n",
      "...............................................................................................7, d_loss=0.6848214864730835, d_acc=0.5859375, gan=loss: 0.7105371356010437, acc: 0.40625, val_loss: 0.6918392777442932, val_acc: 0.49609375\n",
      "epoch over, writing callbacks\n",
      "...............................................................................................8, d_loss=0.6692252159118652, d_acc=0.6328125, gan=loss: 0.6952372789382935, acc: 0.484375, val_loss: 0.6802701950073242, val_acc: 0.63671875\n",
      "epoch over, writing callbacks\n",
      "...............................................................................................9, d_loss=0.6772294640541077, d_acc=0.59375, gan=loss: 0.7046918869018555, acc: 0.51953125, val_loss: 0.6879310011863708, val_acc: 0.5546875\n",
      "epoch over, writing callbacks\n",
      "...............................................................................................10, d_loss=0.6846212148666382, d_acc=0.55078125, gan=loss: 0.6879336833953857, acc: 0.546875, val_loss: 0.6843960285186768, val_acc: 0.62109375\n",
      "epoch over, writing callbacks\n",
      "...............................................................................................11, d_loss=0.6791919469833374, d_acc=0.6015625, gan=loss: 0.7333648204803467, acc: 0.3203125, val_loss: 0.7182080745697021, val_acc: 0.19921875\n",
      "epoch over, writing callbacks\n",
      "...............................................................................................12, d_loss=0.682263970375061, d_acc=0.5703125, gan=loss: 0.7161526679992676, acc: 0.3984375, val_loss: 0.6957682371139526, val_acc: 0.45703125\n",
      "epoch over, writing callbacks\n",
      "...............................................................................................13, d_loss=0.6827310919761658, d_acc=0.53515625, gan=loss: 0.6919082403182983, acc: 0.53515625, val_loss: 0.6751148104667664, val_acc: 0.77734375\n",
      "epoch over, writing callbacks\n",
      "...............................................................................................14, d_loss=0.6840104460716248, d_acc=0.56640625, gan=loss: 0.6889018416404724, acc: 0.54296875, val_loss: 0.67966628074646, val_acc: 0.7109375\n",
      "epoch over, writing callbacks\n",
      "...............................................................................................15, d_loss=0.6961128115653992, d_acc=0.50390625, gan=loss: 0.7082418203353882, acc: 0.43359375, val_loss: 0.6961895823478699, val_acc: 0.453125\n",
      "epoch over, writing callbacks\n",
      "...............................................................................................16, d_loss=0.6848078966140747, d_acc=0.59375, gan=loss: 0.6614845395088196, acc: 0.65234375, val_loss: 0.6516412496566772, val_acc: 0.97265625\n",
      "epoch over, writing callbacks\n",
      "...............................................................................................17, d_loss=0.6900900602340698, d_acc=0.53515625, gan=loss: 0.7614226341247559, acc: 0.19921875, val_loss: 0.7258359789848328, val_acc: 0.125\n",
      "epoch over, writing callbacks\n",
      "...............................................................................................18, d_loss=0.6759804487228394, d_acc=0.58984375, gan=loss: 0.7702117562294006, acc: 0.171875, val_loss: 0.7521308660507202, val_acc: 0.0\n",
      "epoch over, writing callbacks\n",
      "...............................................................................................19, d_loss=0.675266683101654, d_acc=0.55859375, gan=loss: 0.692335844039917, acc: 0.5, val_loss: 0.6853328347206116, val_acc: 0.578125\n",
      "epoch over, writing callbacks\n",
      "...............................................................................................20, d_loss=0.6810961365699768, d_acc=0.55078125, gan=loss: 0.778134822845459, acc: 0.14453125, val_loss: 0.7588965892791748, val_acc: 0.0078125\n",
      "epoch over, writing callbacks\n",
      "...............................................................................................21, d_loss=0.6844238042831421, d_acc=0.5703125, gan=loss: 0.6873742938041687, acc: 0.56640625, val_loss: 0.6711370348930359, val_acc: 0.83984375\n",
      "epoch over, writing callbacks\n",
      "...............................................................................................22, d_loss=0.6834027171134949, d_acc=0.5546875, gan=loss: 0.7190751433372498, acc: 0.41796875, val_loss: 0.7014231085777283, val_acc: 0.41015625\n",
      "epoch over, writing callbacks\n",
      "...............................................................................................23, d_loss=0.6801043748855591, d_acc=0.5703125, gan=loss: 0.7188369035720825, acc: 0.43359375, val_loss: 0.7008450031280518, val_acc: 0.37890625\n",
      "epoch over, writing callbacks\n",
      "...............................................................................................24, d_loss=0.6898455023765564, d_acc=0.546875, gan=loss: 0.6383959650993347, acc: 0.69921875, val_loss: 0.6274925470352173, val_acc: 1.0\n",
      "epoch over, writing callbacks\n",
      "...............................................................................................25, d_loss=0.6918931007385254, d_acc=0.50390625, gan=loss: 0.7166844606399536, acc: 0.41796875, val_loss: 0.7061954736709595, val_acc: 0.34765625\n",
      "epoch over, writing callbacks\n",
      "...............................................................................................26, d_loss=0.6771227121353149, d_acc=0.578125, gan=loss: 0.7373901009559631, acc: 0.3671875, val_loss: 0.7267856001853943, val_acc: 0.11328125\n",
      "epoch over, writing callbacks\n",
      "...............................................................................................27, d_loss=0.6821267604827881, d_acc=0.5546875, gan=loss: 0.7226743698120117, acc: 0.40234375, val_loss: 0.7248210906982422, val_acc: 0.06640625\n",
      "epoch over, writing callbacks\n",
      "...............................................................................................28, d_loss=0.6830071210861206, d_acc=0.58203125, gan=loss: 0.7254005074501038, acc: 0.3828125, val_loss: 0.7121493816375732, val_acc: 0.1953125\n",
      "epoch over, writing callbacks\n",
      "...............................................................................................29, d_loss=0.6857630014419556, d_acc=0.51953125, gan=loss: 0.7415928840637207, acc: 0.34765625, val_loss: 0.7248574495315552, val_acc: 0.0703125\n",
      "epoch over, writing callbacks\n",
      "...............................................................................................30, d_loss=0.6937637329101562, d_acc=0.515625, gan=loss: 0.6948276162147522, acc: 0.48828125, val_loss: 0.6896350979804993, val_acc: 0.55078125\n",
      "epoch over, writing callbacks\n",
      "...............................................................................................31, d_loss=0.6775041222572327, d_acc=0.58984375, gan=loss: 0.686221182346344, acc: 0.5625, val_loss: 0.6740869879722595, val_acc: 0.8046875\n",
      "epoch over, writing callbacks\n"
     ]
    },
    {
     "name": "stdout",
     "output_type": "stream",
     "text": [
      "...............................................................................................32, d_loss=0.6878913640975952, d_acc=0.546875, gan=loss: 0.6598540544509888, acc: 0.69921875, val_loss: 0.658426821231842, val_acc: 0.93359375\n",
      "epoch over, writing callbacks\n",
      "...............................................................................................33, d_loss=0.6944011449813843, d_acc=0.5, gan=loss: 0.7387666702270508, acc: 0.30078125, val_loss: 0.7182676792144775, val_acc: 0.1640625\n",
      "epoch over, writing callbacks\n",
      "...............................................................................................34, d_loss=0.683344841003418, d_acc=0.53515625, gan=loss: 0.7111014127731323, acc: 0.44140625, val_loss: 0.70318603515625, val_acc: 0.328125\n",
      "epoch over, writing callbacks\n",
      "...............................................................................................35, d_loss=0.6861950755119324, d_acc=0.53125, gan=loss: 0.7099887132644653, acc: 0.43359375, val_loss: 0.7031131386756897, val_acc: 0.32421875\n",
      "epoch over, writing callbacks\n",
      "...............................................................................................36, d_loss=0.6897755265235901, d_acc=0.578125, gan=loss: 0.7292873859405518, acc: 0.34765625, val_loss: 0.7176188230514526, val_acc: 0.10546875\n",
      "epoch over, writing callbacks\n",
      "...............................................................................................37, d_loss=0.6902769804000854, d_acc=0.5390625, gan=loss: 0.7153253555297852, acc: 0.4375, val_loss: 0.7037729620933533, val_acc: 0.328125\n",
      "epoch over, writing callbacks\n",
      "...............................................................................................38, d_loss=0.680755615234375, d_acc=0.55859375, gan=loss: 0.7110468745231628, acc: 0.4453125, val_loss: 0.7103797197341919, val_acc: 0.2265625\n",
      "epoch over, writing callbacks\n",
      "...............................................................................................39, d_loss=0.6924699544906616, d_acc=0.50390625, gan=loss: 0.7422083616256714, acc: 0.35546875, val_loss: 0.7267131209373474, val_acc: 0.08984375\n",
      "epoch over, writing callbacks\n",
      "...............................................................................................40, d_loss=0.6843085289001465, d_acc=0.5859375, gan=loss: 0.6749840974807739, acc: 0.6015625, val_loss: 0.6660493612289429, val_acc: 0.890625\n",
      "epoch over, writing callbacks\n",
      "...............................................................................................41, d_loss=0.6745576858520508, d_acc=0.58984375, gan=loss: 0.6895872354507446, acc: 0.51171875, val_loss: 0.6824306845664978, val_acc: 0.64453125\n",
      "epoch over, writing callbacks\n",
      "...............................................................................................42, d_loss=0.6857122182846069, d_acc=0.5234375, gan=loss: 0.6983065605163574, acc: 0.484375, val_loss: 0.6927151679992676, val_acc: 0.46484375\n",
      "epoch over, writing callbacks\n",
      "...............................................................................................43, d_loss=0.6843446493148804, d_acc=0.5859375, gan=loss: 0.67339026927948, acc: 0.6015625, val_loss: 0.6710427403450012, val_acc: 0.8515625\n",
      "epoch over, writing callbacks\n",
      "...............................................................................................44, d_loss=0.6794024705886841, d_acc=0.5625, gan=loss: 0.672391951084137, acc: 0.625, val_loss: 0.6552743911743164, val_acc: 0.94921875\n",
      "epoch over, writing callbacks\n",
      "...............................................................................................45, d_loss=0.6874115467071533, d_acc=0.55078125, gan=loss: 0.731867790222168, acc: 0.35546875, val_loss: 0.7280331254005432, val_acc: 0.05859375\n",
      "epoch over, writing callbacks\n",
      "...............................................................................................46, d_loss=0.6869233250617981, d_acc=0.53125, gan=loss: 0.7085641622543335, acc: 0.4453125, val_loss: 0.7066816091537476, val_acc: 0.2578125\n",
      "epoch over, writing callbacks\n",
      "...............................................................................................47, d_loss=0.6899617910385132, d_acc=0.53125, gan=loss: 0.6942071318626404, acc: 0.5, val_loss: 0.6902169585227966, val_acc: 0.5625\n",
      "epoch over, writing callbacks\n",
      "...............................................................................................48, d_loss=0.6847127079963684, d_acc=0.5625, gan=loss: 0.7094225287437439, acc: 0.4609375, val_loss: 0.7008405923843384, val_acc: 0.37109375\n",
      "epoch over, writing callbacks\n",
      "...............................................................................................49, d_loss=0.6859372854232788, d_acc=0.54296875, gan=loss: 0.726149320602417, acc: 0.390625, val_loss: 0.712938666343689, val_acc: 0.20703125\n",
      "epoch over, writing callbacks\n",
      "...............................................................................................50, d_loss=0.6884229183197021, d_acc=0.57421875, gan=loss: 0.713139533996582, acc: 0.4296875, val_loss: 0.7145516872406006, val_acc: 0.13671875\n",
      "epoch over, writing callbacks\n",
      "...............................................................................................51, d_loss=0.6839340329170227, d_acc=0.56640625, gan=loss: 0.718014657497406, acc: 0.36328125, val_loss: 0.7166619300842285, val_acc: 0.125\n",
      "epoch over, writing callbacks\n",
      "...............................................................................................52, d_loss=0.6904928088188171, d_acc=0.5234375, gan=loss: 0.6970614194869995, acc: 0.49609375, val_loss: 0.6987327933311462, val_acc: 0.37890625\n",
      "epoch over, writing callbacks\n",
      "...............................................................................................53, d_loss=0.6841459274291992, d_acc=0.5390625, gan=loss: 0.7391053438186646, acc: 0.328125, val_loss: 0.7245827913284302, val_acc: 0.06640625\n",
      "epoch over, writing callbacks\n",
      "...............................................................................................54, d_loss=0.690420389175415, d_acc=0.51171875, gan=loss: 0.7341885566711426, acc: 0.3671875, val_loss: 0.7331385612487793, val_acc: 0.05078125\n",
      "epoch over, writing callbacks\n",
      "...............................................................................................55, d_loss=0.6916731595993042, d_acc=0.5390625, gan=loss: 0.7002841830253601, acc: 0.4609375, val_loss: 0.7003373503684998, val_acc: 0.3984375\n",
      "epoch over, writing callbacks\n",
      "...............................................................................................56, d_loss=0.6897304058074951, d_acc=0.52734375, gan=loss: 0.715808629989624, acc: 0.421875, val_loss: 0.7126517295837402, val_acc: 0.16015625\n",
      "epoch over, writing callbacks\n",
      "...............................................................................................57, d_loss=0.6850038170814514, d_acc=0.54296875, gan=loss: 0.6808208227157593, acc: 0.5859375, val_loss: 0.6818847060203552, val_acc: 0.671875\n",
      "epoch over, writing callbacks\n",
      "...............................................................................................58, d_loss=0.68166583776474, d_acc=0.57421875, gan=loss: 0.7101361155509949, acc: 0.40625, val_loss: 0.7028611898422241, val_acc: 0.3359375\n",
      "epoch over, writing callbacks\n",
      "...............................................................................................59, d_loss=0.6857550740242004, d_acc=0.5703125, gan=loss: 0.7086730003356934, acc: 0.4609375, val_loss: 0.7031749486923218, val_acc: 0.296875\n",
      "epoch over, writing callbacks\n",
      "...............................................................................................60, d_loss=0.6923426389694214, d_acc=0.5546875, gan=loss: 0.6808810234069824, acc: 0.59765625, val_loss: 0.6789888143539429, val_acc: 0.765625\n",
      "epoch over, writing callbacks\n",
      "...............................................................................................61, d_loss=0.6891024708747864, d_acc=0.546875, gan=loss: 0.7115256786346436, acc: 0.41796875, val_loss: 0.7094119191169739, val_acc: 0.2265625\n",
      "epoch over, writing callbacks\n",
      "...............................................................................................62, d_loss=0.6831535696983337, d_acc=0.5703125, gan=loss: 0.6884447932243347, acc: 0.55078125, val_loss: 0.684109091758728, val_acc: 0.65625\n",
      "epoch over, writing callbacks\n"
     ]
    },
    {
     "name": "stdout",
     "output_type": "stream",
     "text": [
      "...............................................................................................63, d_loss=0.6921765804290771, d_acc=0.5390625, gan=loss: 0.7358100414276123, acc: 0.328125, val_loss: 0.7236651182174683, val_acc: 0.0546875\n",
      "epoch over, writing callbacks\n",
      "...............................................................................................64, d_loss=0.6947461366653442, d_acc=0.51953125, gan=loss: 0.7014490962028503, acc: 0.421875, val_loss: 0.7023831009864807, val_acc: 0.3359375\n",
      "epoch over, writing callbacks\n",
      "...............................................................................................65, d_loss=0.6861907243728638, d_acc=0.54296875, gan=loss: 0.6906781792640686, acc: 0.546875, val_loss: 0.6975657939910889, val_acc: 0.453125\n",
      "epoch over, writing callbacks\n",
      "...............................................................................................66, d_loss=0.6832566261291504, d_acc=0.5625, gan=loss: 0.6680857539176941, acc: 0.65625, val_loss: 0.6678000688552856, val_acc: 0.91015625\n",
      "epoch over, writing callbacks\n",
      "...............................................................................................67, d_loss=0.6884640455245972, d_acc=0.53515625, gan=loss: 0.7076069116592407, acc: 0.46484375, val_loss: 0.7127425074577332, val_acc: 0.1953125\n",
      "epoch over, writing callbacks\n",
      "...............................................................................................68, d_loss=0.689005970954895, d_acc=0.51171875, gan=loss: 0.7062366008758545, acc: 0.44140625, val_loss: 0.697249710559845, val_acc: 0.43359375\n",
      "epoch over, writing callbacks\n",
      "...............................................................................................69, d_loss=0.6946688890457153, d_acc=0.48828125, gan=loss: 0.7039303779602051, acc: 0.49609375, val_loss: 0.7004750967025757, val_acc: 0.34765625\n",
      "epoch over, writing callbacks\n",
      "...............................................................................................70, d_loss=0.6934443712234497, d_acc=0.51171875, gan=loss: 0.6908825039863586, acc: 0.5390625, val_loss: 0.6898584365844727, val_acc: 0.5625\n",
      "epoch over, writing callbacks\n"
     ]
    },
    {
     "data": {
      "image/png": "[encoded data removed]",
      "text/plain": [
       "<Figure size 1800x360 with 5 Axes>"
      ]
     },
     "metadata": {},
     "output_type": "display_data"
    },
    {
     "data": {
      "image/png": "[encoded data removed]",
      "text/plain": [
       "<Figure size 1800x360 with 5 Axes>"
      ]
     },
     "metadata": {},
     "output_type": "display_data"
    },
    {
     "data": {
      "image/png": "[encoded data removed]",
      "text/plain": [
       "<Figure size 1800x360 with 5 Axes>"
      ]
     },
     "metadata": {},
     "output_type": "display_data"
    },
    {
     "data": {
      "image/png": "[encoded data removed]",
      "text/plain": [
       "<Figure size 1800x360 with 5 Axes>"
      ]
     },
     "metadata": {},
     "output_type": "display_data"
    },
    {
     "data": {
      "image/png": "[encoded data removed]",
      "text/plain": [
       "<Figure size 1800x360 with 5 Axes>"
      ]
     },
     "metadata": {},
     "output_type": "display_data"
    },
    {
     "data": {
      "image/png": "[encoded data removed]",
      "text/plain": [
       "<Figure size 1800x360 with 5 Axes>"
      ]
     },
     "metadata": {},
     "output_type": "display_data"
    },
    {
     "data": {
      "image/png": "[encoded data removed]",
      "text/plain": [
       "<Figure size 1800x360 with 5 Axes>"
      ]
     },
     "metadata": {},
     "output_type": "display_data"
    },
    {
     "data": {
      "image/png": "[encoded data removed]",
      "text/plain": [
       "<Figure size 1800x360 with 5 Axes>"
      ]
     },
     "metadata": {},
     "output_type": "display_data"
    },
    {
     "data": {
      "image/png": "[encoded data removed]",
      "text/plain": [
       "<Figure size 1800x360 with 5 Axes>"
      ]
     },
     "metadata": {},
     "output_type": "display_data"
    },
    {
     "data": {
      "image/png": "[encoded data removed]",
      "text/plain": [
       "<Figure size 1800x360 with 5 Axes>"
      ]
     },
     "metadata": {},
     "output_type": "display_data"
    },
    {
     "data": {
      "image/png": "[encoded data removed]",
      "text/plain": [
       "<Figure size 1800x360 with 5 Axes>"
      ]
     },
     "metadata": {},
     "output_type": "display_data"
    },
    {
     "data": {
      "image/png": "[encoded data removed]",
      "text/plain": [
       "<Figure size 1800x360 with 5 Axes>"
      ]
     },
     "metadata": {},
     "output_type": "display_data"
    },
    {
     "data": {
      "image/png": "[encoded data removed]",
      "text/plain": [
       "<Figure size 1800x360 with 5 Axes>"
      ]
     },
     "metadata": {},
     "output_type": "display_data"
    },
    {
     "data": {
      "image/png": "[encoded data removed]",
      "text/plain": [
       "<Figure size 1800x360 with 5 Axes>"
      ]
     },
     "metadata": {},
     "output_type": "display_data"
    }
   ],
   "source": [
    "train('latent_dim_200', generator, discriminator, gan_model, X_mnist_train[:20000], latent_dim=200, n_epochs=70)"
   ]
  },
  {
   "cell_type": "code",
   "execution_count": 103,
   "metadata": {
    "colab": {
     "base_uri": "https://localhost:8080/",
     "height": 146
    },
    "colab_type": "code",
    "id": "TTtAnc2Yr_zl",
    "outputId": "d75489c7-3a3d-4982-c8ae-f531375a440e"
   },
   "outputs": [
    {
     "data": {
      "image/png": "[encoded data removed]",
      "text/plain": [
       "<Figure size 1440x1440 with 10 Axes>"
      ]
     },
     "metadata": {},
     "output_type": "display_data"
    }
   ],
   "source": [
    "test_generator(generator, 100, 10)"
   ]
  },
  {
   "cell_type": "code",
   "execution_count": 119,
   "metadata": {},
   "outputs": [],
   "source": [
    "# https://machinelearningmastery.com/how-to-develop-a-generative-adversarial-network-for-an-mnist-handwritten-digits-from-scratch-in-keras/\n",
    "# Obavezno ukljuciti u MNIST barem 10000 primjera za učenje za efektivno učenje"
   ]
  },
  {
   "cell_type": "code",
   "execution_count": 72,
   "metadata": {},
   "outputs": [
    {
     "name": "stdout",
     "output_type": "stream",
     "text": [
      "1.6.0\n"
     ]
    }
   ],
   "source": [
    "print(tf.__version__)"
   ]
  },
  {
   "cell_type": "code",
   "execution_count": null,
   "metadata": {},
   "outputs": [],
   "source": []
  }
 ],
 "metadata": {
  "accelerator": "GPU",
  "colab": {
   "name": "MNISTGan.ipynb",
   "provenance": []
  },
  "kernelspec": {
   "display_name": "Python 3",
   "language": "python",
   "name": "python3"
  },
  "language_info": {
   "codemirror_mode": {
    "name": "ipython",
    "version": 3
   },
   "file_extension": ".py",
   "mimetype": "text/x-python",
   "name": "python",
   "nbconvert_exporter": "python",
   "pygments_lexer": "ipython3",
   "version": "3.6.8"
  }
 },
 "nbformat": 4,
 "nbformat_minor": 1
}
