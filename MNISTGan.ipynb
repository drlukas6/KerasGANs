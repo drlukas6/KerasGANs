{
 "cells": [
  {
   "cell_type": "code",
   "execution_count": 1,
   "metadata": {
    "colab": {},
    "colab_type": "code",
    "id": "HppaWbo4r_yH"
   },
   "outputs": [
    {
     "name": "stderr",
     "output_type": "stream",
     "text": [
      "/usr/local/lib/python3.6/dist-packages/h5py/__init__.py:36: FutureWarning: Conversion of the second argument of issubdtype from `float` to `np.floating` is deprecated. In future, it will be treated as `np.float64 == np.dtype(float).type`.\n",
      "  from ._conv import register_converters as _register_converters\n",
      "Using TensorFlow backend.\n"
     ]
    }
   ],
   "source": [
    "from keras.datasets import mnist\n",
    "import numpy as np\n",
    "\n",
    "(x_train, _), (x_test, _) = mnist.load_data()\n",
    "\n",
    "\n",
    "x_train = x_train.astype('float32') / 255.\n",
    "x_test = x_test.astype('float32') / 255.\n",
    "\n",
    "X_mnist_train = x_train.reshape((len(x_train), 28, 28, 1))\n",
    "X_mnist_test = x_test.reshape((len(x_test), 28, 28, 1))"
   ]
  },
  {
   "cell_type": "markdown",
   "metadata": {
    "colab_type": "text",
    "id": "Y4WvQSq0r_yW"
   },
   "source": [
    "## Defining a discriminator\n",
    "High level explanation of a discriminator is simple classifier whose job is to differentiate between real and fake MNIST digits. Fake images being from our generator\n",
    "\n",
    "* Instead of using Max/AvgPooling layers increased stride acts as a downsampler"
   ]
  },
  {
   "cell_type": "code",
   "execution_count": 30,
   "metadata": {
    "colab": {
     "base_uri": "https://localhost:8080/",
     "height": 459
    },
    "colab_type": "code",
    "id": "oeN-8yjrr_yb",
    "outputId": "d81236f3-9a29-4657-fae7-76b9cb49690d"
   },
   "outputs": [
    {
     "name": "stdout",
     "output_type": "stream",
     "text": [
      "_________________________________________________________________\n",
      "Layer (type)                 Output Shape              Param #   \n",
      "=================================================================\n",
      "input_7 (InputLayer)         (None, 28, 28, 1)         0         \n",
      "_________________________________________________________________\n",
      "conv2d_8 (Conv2D)            (None, 14, 14, 64)        640       \n",
      "_________________________________________________________________\n",
      "leaky_re_lu_18 (LeakyReLU)   (None, 14, 14, 64)        0         \n",
      "_________________________________________________________________\n",
      "dropout_3 (Dropout)          (None, 14, 14, 64)        0         \n",
      "_________________________________________________________________\n",
      "conv2d_9 (Conv2D)            (None, 7, 7, 64)          36928     \n",
      "_________________________________________________________________\n",
      "leaky_re_lu_19 (LeakyReLU)   (None, 7, 7, 64)          0         \n",
      "_________________________________________________________________\n",
      "dropout_4 (Dropout)          (None, 7, 7, 64)          0         \n",
      "_________________________________________________________________\n",
      "flatten_2 (Flatten)          (None, 3136)              0         \n",
      "_________________________________________________________________\n",
      "dense_7 (Dense)              (None, 1)                 3137      \n",
      "=================================================================\n",
      "Total params: 40,705\n",
      "Trainable params: 40,705\n",
      "Non-trainable params: 0\n",
      "_________________________________________________________________\n"
     ]
    }
   ],
   "source": [
    "from keras.layers import Input, Dense, Conv2D, LeakyReLU, Dropout, Flatten\n",
    "from keras.models import Model\n",
    "from keras.optimizers import Adam\n",
    "\n",
    "def discriminator_model(input_shape = (28, 28, 1)) -> Model:\n",
    "    \n",
    "    network_input = Input(shape=input_shape)\n",
    "    \n",
    "    layer = Conv2D(64, (3, 3), strides=(2, 2), padding='same')(network_input)\n",
    "    layer = LeakyReLU(alpha=0.2)(layer)\n",
    "    layer = Dropout(0.4)(layer)\n",
    "    layer = Conv2D(64, (3, 3), strides=(2, 2), padding='same')(layer)\n",
    "    layer = LeakyReLU(alpha=0.2)(layer)\n",
    "    layer = Dropout(0.4)(layer)\n",
    "    layer = Flatten()(layer)\n",
    "    layer = Dense(1, activation='sigmoid')(layer)\n",
    "    \n",
    "    model = Model(network_input, layer)\n",
    "    \n",
    "    adam = Adam(lr=0.0002, beta_1=0.5)\n",
    "    model.compile(optimizer=adam, loss='binary_crossentropy', metrics=['accuracy'])\n",
    "    \n",
    "    return model\n",
    "\n",
    "discriminator = discriminator_model()\n",
    "discriminator.summary()"
   ]
  },
  {
   "cell_type": "markdown",
   "metadata": {
    "colab_type": "text",
    "id": "zP0FHBkPr_yh"
   },
   "source": [
    "## Generating a REAL + FAKE dataset\n",
    "MNIST dataset gave us real images, but our model requires fake models to differentiate from real ones"
   ]
  },
  {
   "cell_type": "code",
   "execution_count": 3,
   "metadata": {
    "colab": {},
    "colab_type": "code",
    "id": "nZJ2Y7tAr_yi"
   },
   "outputs": [],
   "source": [
    "def generate_real_samples(dataset: np.ndarray, n_samples: int) -> (np.ndarray, np.ndarray):\n",
    "    \n",
    "    random_sample_indexes = np.random.randint(0, dataset.shape[0], n_samples)\n",
    "    random_samples = x_train[random_sample_indexes]\n",
    "    \n",
    "    random_samples = random_samples.reshape((n_samples, 28, 28, 1))\n",
    "    \n",
    "    return (random_samples, np.ones((n_samples, 1)))\n",
    "\n",
    "\n",
    "def generate_fake_samples(n_samples: int) -> (np.ndarray, np.ndarray):\n",
    "    \n",
    "    X = np.random.rand(28 * 28 * n_samples)\n",
    "    X = X.reshape((n_samples, 28, 28, 1))\n",
    "    \n",
    "    return (X, np.zeros((n_samples, 1)))"
   ]
  },
  {
   "cell_type": "code",
   "execution_count": 4,
   "metadata": {
    "colab": {},
    "colab_type": "code",
    "id": "Itv3zozrr_yo"
   },
   "outputs": [],
   "source": [
    "import matplotlib.pyplot as plt"
   ]
  },
  {
   "cell_type": "code",
   "execution_count": 5,
   "metadata": {
    "colab": {
     "base_uri": "https://localhost:8080/",
     "height": 129
    },
    "colab_type": "code",
    "id": "uBJk332pr_yr",
    "outputId": "dacb220e-888d-49e7-e7b3-48bfdb261b5c"
   },
   "outputs": [
    {
     "data": {
      "image/png": "[encoded data removed]",
      "text/plain": [
       "<Figure size 1440x1440 with 10 Axes>"
      ]
     },
     "metadata": {},
     "output_type": "display_data"
    }
   ],
   "source": [
    "fake_images, _ = generate_fake_samples(10)\n",
    "\n",
    "plt.figure(figsize=(20, 20))\n",
    "for i in range(10):\n",
    "    ax = plt.subplot(1, 10, i + 1)\n",
    "    plt.imshow(fake_images[i].reshape((28, 28)))\n",
    "    plt.gray()\n",
    "    ax.get_xaxis().set_visible(False)\n",
    "    ax.get_yaxis().set_visible(False)\n",
    "\n",
    "plt.show()"
   ]
  },
  {
   "cell_type": "markdown",
   "metadata": {
    "colab_type": "text",
    "id": "-WFkQr8Or_yu"
   },
   "source": [
    "## About the discriminator\n",
    "* Since we defined the architecture of the discriminator we are going to train it sequentaly with the whole GAN, not by itself\n",
    "\n",
    "## Defining a generator"
   ]
  },
  {
   "cell_type": "code",
   "execution_count": 6,
   "metadata": {
    "colab": {},
    "colab_type": "code",
    "id": "f1txocENr_yv"
   },
   "outputs": [],
   "source": [
    "from keras.layers import Reshape, Conv2DTranspose"
   ]
  },
  {
   "cell_type": "code",
   "execution_count": 28,
   "metadata": {
    "colab": {},
    "colab_type": "code",
    "id": "y1uMcaMOr_y0"
   },
   "outputs": [],
   "source": [
    "def generator_model(latent_dim: int) -> Model:\n",
    "    \n",
    "    network_input = Input(shape=(latent_dim,))\n",
    "    \n",
    "    layer = Dense(128 * 7 * 7)(network_input)\n",
    "    layer = LeakyReLU(alpha=0.2)(layer)\n",
    "    layer = Reshape((7, 7, 128))(layer)\n",
    "    layer = Conv2DTranspose(128, (4, 4), strides=(2, 2), padding='same')(layer)\n",
    "    layer = LeakyReLU(alpha=0.2)(layer)\n",
    "    layer = Conv2DTranspose(128, (4, 4), strides=(2, 2), padding='same')(layer)\n",
    "    layer = LeakyReLU(alpha=0.2)(layer)\n",
    "    layer = Conv2D(1, (7, 7), activation='sigmoid', padding='same')(layer)\n",
    "    \n",
    "    model =  Model(network_input, layer)\n",
    "        \n",
    "    return model"
   ]
  },
  {
   "cell_type": "code",
   "execution_count": 29,
   "metadata": {
    "colab": {
     "base_uri": "https://localhost:8080/",
     "height": 459
    },
    "colab_type": "code",
    "id": "xH2SOzEMr_y7",
    "outputId": "240fda8d-59c3-4323-d9d3-13c310f85613"
   },
   "outputs": [
    {
     "name": "stdout",
     "output_type": "stream",
     "text": [
      "_________________________________________________________________\n",
      "Layer (type)                 Output Shape              Param #   \n",
      "=================================================================\n",
      "input_6 (InputLayer)         (None, 100)               0         \n",
      "_________________________________________________________________\n",
      "dense_6 (Dense)              (None, 6272)              633472    \n",
      "_________________________________________________________________\n",
      "leaky_re_lu_15 (LeakyReLU)   (None, 6272)              0         \n",
      "_________________________________________________________________\n",
      "reshape_5 (Reshape)          (None, 7, 7, 128)         0         \n",
      "_________________________________________________________________\n",
      "conv2d_transpose_9 (Conv2DTr (None, 14, 14, 128)       262272    \n",
      "_________________________________________________________________\n",
      "leaky_re_lu_16 (LeakyReLU)   (None, 14, 14, 128)       0         \n",
      "_________________________________________________________________\n",
      "conv2d_transpose_10 (Conv2DT (None, 28, 28, 128)       262272    \n",
      "_________________________________________________________________\n",
      "leaky_re_lu_17 (LeakyReLU)   (None, 28, 28, 128)       0         \n",
      "_________________________________________________________________\n",
      "conv2d_7 (Conv2D)            (None, 28, 28, 1)         6273      \n",
      "=================================================================\n",
      "Total params: 1,164,289\n",
      "Trainable params: 1,164,289\n",
      "Non-trainable params: 0\n",
      "_________________________________________________________________\n"
     ]
    }
   ],
   "source": [
    "generator = generator_model(100)\n",
    "generator.summary()"
   ]
  },
  {
   "cell_type": "code",
   "execution_count": 9,
   "metadata": {
    "colab": {},
    "colab_type": "code",
    "id": "dFn0w__jr_zA"
   },
   "outputs": [],
   "source": [
    "def generate_latent_points(latent_dim: int, n_samples: int) -> np.ndarray:\n",
    "    \n",
    "    x_input = np.random.randn(latent_dim * n_samples)\n",
    "    x_input = x_input.reshape(n_samples, latent_dim)\n",
    "    \n",
    "    return x_input"
   ]
  },
  {
   "cell_type": "code",
   "execution_count": 10,
   "metadata": {
    "colab": {},
    "colab_type": "code",
    "id": "LDZGWmOdr_zE"
   },
   "outputs": [],
   "source": [
    "def generate_fake_generator_samples(generator: Model, latent_dim: int, n_samples: int) -> (np.ndarray, np.ndarray):\n",
    "    \n",
    "    x_input = generate_latent_points(latent_dim, n_samples)\n",
    "    \n",
    "    X = generator.predict(x_input)\n",
    "    \n",
    "    y = np.zeros((n_samples, 1)) # Zeros because we want to convince the generator that these are fakes\n",
    "    \n",
    "    return X, y"
   ]
  },
  {
   "cell_type": "markdown",
   "metadata": {
    "colab_type": "text",
    "id": "oEjUy4x3r_zG"
   },
   "source": [
    "### Initial generator examples"
   ]
  },
  {
   "cell_type": "code",
   "execution_count": 11,
   "metadata": {
    "colab": {
     "base_uri": "https://localhost:8080/",
     "height": 129
    },
    "colab_type": "code",
    "id": "dRg90RtEr_zI",
    "outputId": "82ec1ce0-7412-40cd-f446-14a900f9c846"
   },
   "outputs": [
    {
     "data": {
      "image/png": "[encoded data removed]",
      "text/plain": [
       "<Figure size 1440x1440 with 10 Axes>"
      ]
     },
     "metadata": {},
     "output_type": "display_data"
    }
   ],
   "source": [
    "initial_generator_samples, _ = generate_fake_generator_samples(generator, 100, 10)\n",
    "\n",
    "plt.figure(figsize=(20, 20))\n",
    "for i in range(10):\n",
    "    ax = plt.subplot(1, 10, i + 1)\n",
    "    plt.imshow(initial_generator_samples[i].reshape((28, 28)))\n",
    "    plt.gray()\n",
    "    ax.get_xaxis().set_visible(False)\n",
    "    ax.get_yaxis().set_visible(False)\n",
    "\n",
    "plt.show()"
   ]
  },
  {
   "cell_type": "markdown",
   "metadata": {
    "colab_type": "text",
    "id": "Cy_uXov2r_zQ"
   },
   "source": [
    "## Defining a generator"
   ]
  },
  {
   "cell_type": "code",
   "execution_count": 12,
   "metadata": {
    "colab": {},
    "colab_type": "code",
    "id": "O26Ksgopr_zR"
   },
   "outputs": [],
   "source": [
    "from keras.models import Sequential"
   ]
  },
  {
   "cell_type": "code",
   "execution_count": 13,
   "metadata": {
    "colab": {},
    "colab_type": "code",
    "id": "UAzsC9Vur_zV"
   },
   "outputs": [],
   "source": [
    "def define_gan(g_model: Model, d_model: Model) -> Model:\n",
    "    \n",
    "    d_model.trainable = False\n",
    "    \n",
    "    model = Sequential()\n",
    "    \n",
    "    model.add(g_model)\n",
    "    \n",
    "    model.add(d_model)\n",
    "    \n",
    "    opt = Adam(lr=0.0002, beta_1=0.5)\n",
    "    \n",
    "    model.compile(loss='binary_crossentropy', optimizer=opt)\n",
    "    \n",
    "    return model"
   ]
  },
  {
   "cell_type": "code",
   "execution_count": 31,
   "metadata": {
    "colab": {
     "base_uri": "https://localhost:8080/",
     "height": 221
    },
    "colab_type": "code",
    "id": "Bsg7B4lMr_zY",
    "outputId": "17bcd878-8349-427f-d91e-e74b5b8a1f89"
   },
   "outputs": [
    {
     "name": "stdout",
     "output_type": "stream",
     "text": [
      "_________________________________________________________________\n",
      "Layer (type)                 Output Shape              Param #   \n",
      "=================================================================\n",
      "model_6 (Model)              (None, 28, 28, 1)         1164289   \n",
      "_________________________________________________________________\n",
      "model_7 (Model)              (None, 1)                 40705     \n",
      "=================================================================\n",
      "Total params: 1,204,994\n",
      "Trainable params: 1,164,289\n",
      "Non-trainable params: 40,705\n",
      "_________________________________________________________________\n"
     ]
    }
   ],
   "source": [
    "gan_model = define_gan(generator, discriminator)\n",
    "gan_model.summary()"
   ]
  },
  {
   "cell_type": "markdown",
   "metadata": {
    "colab_type": "text",
    "id": "8fUtyHlCr_zb"
   },
   "source": [
    "## Training the GAN model"
   ]
  },
  {
   "cell_type": "code",
   "execution_count": 41,
   "metadata": {
    "colab": {},
    "colab_type": "code",
    "id": "8wYPjFe4r_zb"
   },
   "outputs": [],
   "source": [
    "def test_generator(generator: Model, latent_dim: int, examples: int):\n",
    "    \n",
    "    generator_output = generate_fake_generator_samples(generator, latent_dim, examples)[0]\n",
    "    plt.figure(figsize=(20, 20))\n",
    "    for i in range(10):\n",
    "        ax = plt.subplot(1, 10, i + 1)\n",
    "        plt.imshow(generator_output[i].reshape((28, 28)))\n",
    "        plt.gray()\n",
    "        ax.get_xaxis().set_visible(False)\n",
    "        ax.get_yaxis().set_visible(False)\n",
    "\n",
    "    plt.show()"
   ]
  },
  {
   "cell_type": "markdown",
   "metadata": {},
   "source": [
    "### Setting up tensorboard"
   ]
  },
  {
   "cell_type": "code",
   "execution_count": 37,
   "metadata": {},
   "outputs": [],
   "source": [
    "from keras.callbacks import TensorBoard"
   ]
  },
  {
   "cell_type": "code",
   "execution_count": 56,
   "metadata": {},
   "outputs": [],
   "source": [
    "def tensorboard(log_dir, batch_size: int, model: Model) -> TensorBoard:\n",
    "    \n",
    "    _tensorboard = TensorBoard(log_dir=log_dir,\n",
    "                               histogram_freq=0,\n",
    "                               batch_size=batch_size,\n",
    "                               write_graph=True, \n",
    "                               write_grads=True)\n",
    "    \n",
    "    _tensorboard.set_model(model)\n",
    "    \n",
    "    return _tensorboard\n",
    "\n",
    "def named_logs(model: Model, logs) -> dict:\n",
    "    \n",
    "    result = {}\n",
    "    \n",
    "    for l in zip(model.metrics_names, logs):\n",
    "        result[l[0]] = l[1]\n",
    "    \n",
    "    return result"
   ]
  },
  {
   "cell_type": "code",
   "execution_count": 57,
   "metadata": {
    "colab": {},
    "colab_type": "code",
    "id": "a3f_WnU7r_zd"
   },
   "outputs": [],
   "source": [
    "def train(log_dir:str, log_model: Model, g_model: Model, d_model: Model, gan_model: Model, dataset: np.ndarray, latent_dim: int, n_epochs=100, n_batch=256):\n",
    "    \n",
    "    batches_per_epoch = int(dataset.shape[0] / n_epochs)\n",
    "    half_batch = int(n_batch / 2)\n",
    "    \n",
    "    _tensorboard = tensorboard(log_dir, n_batch, log_model)\n",
    "    \n",
    "    for i in range(n_epochs):\n",
    "        for j in range(batches_per_epoch):\n",
    "            \n",
    "            X_real, y_real = generate_real_samples(dataset, half_batch)\n",
    "            X_fake, y_fake = generate_fake_generator_samples(g_model, latent_dim, half_batch)\n",
    "            \n",
    "            X, y = np.vstack((X_real, X_fake)), np.vstack((y_real, y_fake))\n",
    "            d_loss = d_model.train_on_batch(X, y)\n",
    "            \n",
    "            X_gan = generate_latent_points(latent_dim, n_batch)\n",
    "            \n",
    "            y_gan = np.ones((n_batch, 1))\n",
    "            \n",
    "            g_loss = gan_model.train_on_batch(X_gan, y_gan)\n",
    "            \n",
    "            if (j + 1) % batches_per_epoch == 0:\n",
    "                print(f'{i+1}, {j+1}/{batches_per_epoch}, d={d_loss}, g={g_loss}')\n",
    "                \n",
    "        _tensorboard.on_epoch_end(i + 1, named_logs(log_model, [g_loss]))\n",
    "        \n",
    "        if (i + 1) % 10 == 0:\n",
    "            test_generator(g_model, latent_dim, 10)"
   ]
  },
  {
   "cell_type": "code",
   "execution_count": 59,
   "metadata": {
    "colab": {
     "base_uri": "https://localhost:8080/",
     "height": 1000
    },
    "colab_type": "code",
    "id": "ngjLHumsr_zf",
    "outputId": "067ab86f-70a1-467e-9727-5b4446e292be"
   },
   "outputs": [
    {
     "name": "stderr",
     "output_type": "stream",
     "text": [
      "/usr/local/lib/python3.6/dist-packages/keras/engine/training.py:973: UserWarning: Discrepancy between trainable weights and collected trainable weights, did you set `model.trainable` without calling `model.compile` after ?\n",
      "  'Discrepancy between trainable weights and collected trainable'\n"
     ]
    },
    {
     "name": "stdout",
     "output_type": "stream",
     "text": [
      "1, 20/20, d=[0.6840726, 0.59375], g=0.7002383470535278\n",
      "2, 20/20, d=[0.678532, 0.58984375], g=0.691658616065979\n",
      "3, 20/20, d=[0.68595195, 0.5546875], g=0.6987825036048889\n",
      "4, 20/20, d=[0.68122226, 0.578125], g=0.6908718347549438\n",
      "5, 20/20, d=[0.6830855, 0.5703125], g=0.6984941959381104\n",
      "6, 20/20, d=[0.67705727, 0.56640625], g=0.6929699182510376\n",
      "7, 20/20, d=[0.6945176, 0.52734375], g=0.6942058205604553\n",
      "8, 20/20, d=[0.67874503, 0.58984375], g=0.7057052850723267\n",
      "9, 20/20, d=[0.6851438, 0.58203125], g=0.7170116901397705\n",
      "10, 20/20, d=[0.6893568, 0.52734375], g=0.7189422845840454\n"
     ]
    },
    {
     "data": {
      "image/png": "[encoded data removed]",
      "text/plain": [
       "<Figure size 1440x1440 with 10 Axes>"
      ]
     },
     "metadata": {},
     "output_type": "display_data"
    },
    {
     "name": "stdout",
     "output_type": "stream",
     "text": [
      "11, 20/20, d=[0.6775523, 0.5625], g=0.6860994696617126\n",
      "12, 20/20, d=[0.69697005, 0.4765625], g=0.655474841594696\n",
      "13, 20/20, d=[0.6897983, 0.49609375], g=0.6907042860984802\n",
      "14, 20/20, d=[0.6848737, 0.5546875], g=0.731595516204834\n",
      "15, 20/20, d=[0.6725019, 0.60546875], g=0.7491682767868042\n",
      "16, 20/20, d=[0.6876453, 0.55078125], g=0.6837698817253113\n",
      "17, 20/20, d=[0.6671268, 0.63671875], g=0.7623839974403381\n",
      "18, 20/20, d=[0.6866591, 0.5625], g=0.710982620716095\n",
      "19, 20/20, d=[0.6758239, 0.578125], g=0.6883348226547241\n",
      "20, 20/20, d=[0.6777905, 0.6015625], g=0.7260531783103943\n"
     ]
    },
    {
     "data": {
      "image/png": "[encoded data removed]",
      "text/plain": [
       "<Figure size 1440x1440 with 10 Axes>"
      ]
     },
     "metadata": {},
     "output_type": "display_data"
    },
    {
     "name": "stdout",
     "output_type": "stream",
     "text": [
      "21, 20/20, d=[0.6906159, 0.52734375], g=0.6724589467048645\n",
      "22, 20/20, d=[0.68293893, 0.57421875], g=0.7520020008087158\n",
      "23, 20/20, d=[0.67762536, 0.57421875], g=0.6859355568885803\n",
      "24, 20/20, d=[0.6814136, 0.5546875], g=0.7340884804725647\n",
      "25, 20/20, d=[0.6874608, 0.53125], g=0.7387873530387878\n",
      "26, 20/20, d=[0.6969192, 0.5234375], g=0.6642211079597473\n",
      "27, 20/20, d=[0.6742707, 0.6015625], g=0.7909453511238098\n",
      "28, 20/20, d=[0.6976294, 0.48046875], g=0.6856307983398438\n",
      "29, 20/20, d=[0.66784346, 0.640625], g=0.7090069055557251\n",
      "30, 20/20, d=[0.6919514, 0.5], g=0.6945213079452515\n"
     ]
    },
    {
     "data": {
      "image/png": "[encoded data removed]",
      "text/plain": [
       "<Figure size 1440x1440 with 10 Axes>"
      ]
     },
     "metadata": {},
     "output_type": "display_data"
    },
    {
     "name": "stdout",
     "output_type": "stream",
     "text": [
      "31, 20/20, d=[0.687588, 0.54296875], g=0.7184297442436218\n",
      "32, 20/20, d=[0.6770482, 0.62890625], g=0.7267144918441772\n",
      "33, 20/20, d=[0.6907997, 0.54296875], g=0.6879976987838745\n",
      "34, 20/20, d=[0.6913522, 0.5078125], g=0.6969448924064636\n",
      "35, 20/20, d=[0.688297, 0.546875], g=0.7038691639900208\n",
      "36, 20/20, d=[0.68186736, 0.57421875], g=0.7108932733535767\n",
      "37, 20/20, d=[0.67798716, 0.6015625], g=0.6863663792610168\n",
      "38, 20/20, d=[0.68341196, 0.578125], g=0.7255290746688843\n",
      "39, 20/20, d=[0.68626964, 0.56640625], g=0.7325695157051086\n",
      "40, 20/20, d=[0.68711317, 0.5390625], g=0.7124096155166626\n"
     ]
    },
    {
     "data": {
      "image/png": "[encoded data removed]",
      "text/plain": [
       "<Figure size 1440x1440 with 10 Axes>"
      ]
     },
     "metadata": {},
     "output_type": "display_data"
    },
    {
     "name": "stdout",
     "output_type": "stream",
     "text": [
      "41, 20/20, d=[0.6854816, 0.55859375], g=0.6681545972824097\n",
      "42, 20/20, d=[0.68877596, 0.51171875], g=0.7205736637115479\n",
      "43, 20/20, d=[0.67475784, 0.63671875], g=0.7317030429840088\n",
      "44, 20/20, d=[0.68285024, 0.56640625], g=0.7130207419395447\n",
      "45, 20/20, d=[0.68149376, 0.57421875], g=0.6741302609443665\n",
      "46, 20/20, d=[0.6800384, 0.57421875], g=0.6982280611991882\n",
      "47, 20/20, d=[0.7020822, 0.46484375], g=0.7532390356063843\n",
      "48, 20/20, d=[0.6852075, 0.56640625], g=0.6964370012283325\n",
      "49, 20/20, d=[0.6769081, 0.58984375], g=0.7377063035964966\n",
      "50, 20/20, d=[0.69078773, 0.51171875], g=0.7224447131156921\n"
     ]
    },
    {
     "data": {
      "image/png": "[encoded data removed]",
      "text/plain": [
       "<Figure size 1440x1440 with 10 Axes>"
      ]
     },
     "metadata": {},
     "output_type": "display_data"
    }
   ],
   "source": [
    "train('tf_logs', gan_model, generator, discriminator, gan_model, X_mnist_train[:1000], 100, 50)"
   ]
  },
  {
   "cell_type": "code",
   "execution_count": 28,
   "metadata": {
    "colab": {
     "base_uri": "https://localhost:8080/",
     "height": 146
    },
    "colab_type": "code",
    "id": "TTtAnc2Yr_zl",
    "outputId": "d75489c7-3a3d-4982-c8ae-f531375a440e"
   },
   "outputs": [
    {
     "name": "stdout",
     "output_type": "stream",
     "text": [
      "(10, 28, 28, 1)\n"
     ]
    },
    {
     "data": {
      "image/png": "[encoded data removed]",
      "text/plain": [
       "<Figure size 1440x1440 with 10 Axes>"
      ]
     },
     "metadata": {
      "tags": []
     },
     "output_type": "display_data"
    }
   ],
   "source": [
    "test_generator(generator, 100, 10)"
   ]
  }
 ],
 "metadata": {
  "accelerator": "GPU",
  "colab": {
   "name": "MNISTGan.ipynb",
   "provenance": []
  },
  "kernelspec": {
   "display_name": "Python 3",
   "language": "python",
   "name": "python3"
  },
  "language_info": {
   "codemirror_mode": {
    "name": "ipython",
    "version": 3
   },
   "file_extension": ".py",
   "mimetype": "text/x-python",
   "name": "python",
   "nbconvert_exporter": "python",
   "pygments_lexer": "ipython3",
   "version": "3.6.8"
  }
 },
 "nbformat": 4,
 "nbformat_minor": 1
}
