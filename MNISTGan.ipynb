{
 "cells": [
  {
   "cell_type": "code",
   "execution_count": 1,
   "metadata": {
    "colab": {},
    "colab_type": "code",
    "id": "HppaWbo4r_yH"
   },
   "outputs": [
    {
     "name": "stderr",
     "output_type": "stream",
     "text": [
      "/usr/local/lib/python3.6/dist-packages/h5py/__init__.py:36: FutureWarning: Conversion of the second argument of issubdtype from `float` to `np.floating` is deprecated. In future, it will be treated as `np.float64 == np.dtype(float).type`.\n",
      "  from ._conv import register_converters as _register_converters\n",
      "Using TensorFlow backend.\n"
     ]
    }
   ],
   "source": [
    "from keras.datasets import mnist\n",
    "import numpy as np\n",
    "\n",
    "(x_train, _), (x_test, _) = mnist.load_data()\n",
    "\n",
    "\n",
    "x_train = x_train.astype('float32') / 255.\n",
    "x_test = x_test.astype('float32') / 255.\n",
    "\n",
    "X_mnist_train = x_train.reshape((len(x_train), 28, 28, 1))\n",
    "X_mnist_test = x_test.reshape((len(x_test), 28, 28, 1))"
   ]
  },
  {
   "cell_type": "markdown",
   "metadata": {
    "colab_type": "text",
    "id": "Y4WvQSq0r_yW"
   },
   "source": [
    "## Defining a discriminator\n",
    "High level explanation of a discriminator is simple classifier whose job is to differentiate between real and fake MNIST digits. Fake images being from our generator\n",
    "\n",
    "* Instead of using Max/AvgPooling layers increased stride acts as a downsampler"
   ]
  },
  {
   "cell_type": "code",
   "execution_count": 2,
   "metadata": {
    "colab": {
     "base_uri": "https://localhost:8080/",
     "height": 459
    },
    "colab_type": "code",
    "id": "oeN-8yjrr_yb",
    "outputId": "d81236f3-9a29-4657-fae7-76b9cb49690d"
   },
   "outputs": [
    {
     "name": "stdout",
     "output_type": "stream",
     "text": [
      "_________________________________________________________________\n",
      "Layer (type)                 Output Shape              Param #   \n",
      "=================================================================\n",
      "input_1 (InputLayer)         (None, 28, 28, 1)         0         \n",
      "_________________________________________________________________\n",
      "conv2d_1 (Conv2D)            (None, 14, 14, 64)        640       \n",
      "_________________________________________________________________\n",
      "leaky_re_lu_1 (LeakyReLU)    (None, 14, 14, 64)        0         \n",
      "_________________________________________________________________\n",
      "dropout_1 (Dropout)          (None, 14, 14, 64)        0         \n",
      "_________________________________________________________________\n",
      "conv2d_2 (Conv2D)            (None, 7, 7, 64)          36928     \n",
      "_________________________________________________________________\n",
      "leaky_re_lu_2 (LeakyReLU)    (None, 7, 7, 64)          0         \n",
      "_________________________________________________________________\n",
      "dropout_2 (Dropout)          (None, 7, 7, 64)          0         \n",
      "_________________________________________________________________\n",
      "flatten_1 (Flatten)          (None, 3136)              0         \n",
      "_________________________________________________________________\n",
      "dense_1 (Dense)              (None, 1)                 3137      \n",
      "=================================================================\n",
      "Total params: 40,705\n",
      "Trainable params: 40,705\n",
      "Non-trainable params: 0\n",
      "_________________________________________________________________\n"
     ]
    }
   ],
   "source": [
    "from keras.layers import Input, Dense, Conv2D, LeakyReLU, Dropout, Flatten\n",
    "from keras.models import Model\n",
    "from keras.optimizers import Adam\n",
    "\n",
    "def discriminator_model(input_shape = (28, 28, 1)) -> Model:\n",
    "    \n",
    "    network_input = Input(shape=input_shape)\n",
    "    \n",
    "    layer = Conv2D(64, (3, 3), strides=(2, 2), padding='same')(network_input)\n",
    "    layer = LeakyReLU(alpha=0.2)(layer)\n",
    "    layer = Dropout(0.4)(layer)\n",
    "    layer = Conv2D(64, (3, 3), strides=(2, 2), padding='same')(layer)\n",
    "    layer = LeakyReLU(alpha=0.2)(layer)\n",
    "    layer = Dropout(0.4)(layer)\n",
    "    layer = Flatten()(layer)\n",
    "    layer = Dense(1, activation='sigmoid')(layer)\n",
    "    \n",
    "    model = Model(network_input, layer)\n",
    "    \n",
    "    adam = Adam(lr=0.0002, beta_1=0.5)\n",
    "    model.compile(optimizer=adam, loss='binary_crossentropy', metrics=['accuracy'])\n",
    "    \n",
    "    return model\n",
    "\n",
    "discriminator = discriminator_model()\n",
    "discriminator.summary()"
   ]
  },
  {
   "cell_type": "markdown",
   "metadata": {
    "colab_type": "text",
    "id": "zP0FHBkPr_yh"
   },
   "source": [
    "## Generating a REAL + FAKE dataset\n",
    "MNIST dataset gave us real images, but our model requires fake models to differentiate from real ones"
   ]
  },
  {
   "cell_type": "code",
   "execution_count": 3,
   "metadata": {
    "colab": {},
    "colab_type": "code",
    "id": "nZJ2Y7tAr_yi"
   },
   "outputs": [],
   "source": [
    "def generate_real_samples(dataset: np.ndarray, n_samples: int) -> (np.ndarray, np.ndarray):\n",
    "    \n",
    "    random_sample_indexes = np.random.randint(0, dataset.shape[0], n_samples)\n",
    "    random_samples = x_train[random_sample_indexes]\n",
    "    \n",
    "    random_samples = random_samples.reshape((n_samples, 28, 28, 1))\n",
    "    \n",
    "    return (random_samples, np.ones((n_samples, 1)))\n",
    "\n",
    "\n",
    "def generate_fake_samples(n_samples: int) -> (np.ndarray, np.ndarray):\n",
    "    \n",
    "    X = np.random.rand(28 * 28 * n_samples)\n",
    "    X = X.reshape((n_samples, 28, 28, 1))\n",
    "    \n",
    "    return (X, np.zeros((n_samples, 1)))"
   ]
  },
  {
   "cell_type": "code",
   "execution_count": 4,
   "metadata": {
    "colab": {},
    "colab_type": "code",
    "id": "Itv3zozrr_yo"
   },
   "outputs": [],
   "source": [
    "import matplotlib.pyplot as plt"
   ]
  },
  {
   "cell_type": "code",
   "execution_count": 5,
   "metadata": {
    "colab": {
     "base_uri": "https://localhost:8080/",
     "height": 129
    },
    "colab_type": "code",
    "id": "uBJk332pr_yr",
    "outputId": "dacb220e-888d-49e7-e7b3-48bfdb261b5c"
   },
   "outputs": [
    {
     "data": {
      "image/png": "[encoded data removed]",
      "text/plain": [
       "<Figure size 1440x1440 with 10 Axes>"
      ]
     },
     "metadata": {},
     "output_type": "display_data"
    }
   ],
   "source": [
    "fake_images, _ = generate_fake_samples(10)\n",
    "\n",
    "plt.figure(figsize=(20, 20))\n",
    "for i in range(10):\n",
    "    ax = plt.subplot(1, 10, i + 1)\n",
    "    plt.imshow(fake_images[i].reshape((28, 28)))\n",
    "    plt.gray()\n",
    "    ax.get_xaxis().set_visible(False)\n",
    "    ax.get_yaxis().set_visible(False)\n",
    "\n",
    "plt.show()"
   ]
  },
  {
   "cell_type": "markdown",
   "metadata": {
    "colab_type": "text",
    "id": "-WFkQr8Or_yu"
   },
   "source": [
    "## About the discriminator\n",
    "* Since we defined the architecture of the discriminator we are going to train it sequentaly with the whole GAN, not by itself\n",
    "\n",
    "## Defining a generator"
   ]
  },
  {
   "cell_type": "code",
   "execution_count": 6,
   "metadata": {
    "colab": {},
    "colab_type": "code",
    "id": "f1txocENr_yv"
   },
   "outputs": [],
   "source": [
    "from keras.layers import Reshape, Conv2DTranspose"
   ]
  },
  {
   "cell_type": "code",
   "execution_count": 7,
   "metadata": {
    "colab": {},
    "colab_type": "code",
    "id": "y1uMcaMOr_y0"
   },
   "outputs": [],
   "source": [
    "def generator_model(latent_dim: int) -> Model:\n",
    "    \n",
    "    network_input = Input(shape=(latent_dim,))\n",
    "    \n",
    "    layer = Dense(128 * 7 * 7)(network_input)\n",
    "    layer = LeakyReLU(alpha=0.2)(layer)\n",
    "    layer = Reshape((7, 7, 128))(layer)\n",
    "    layer = Conv2DTranspose(128, (4, 4), strides=(2, 2), padding='same')(layer)\n",
    "    layer = LeakyReLU(alpha=0.2)(layer)\n",
    "    layer = Conv2DTranspose(128, (4, 4), strides=(2, 2), padding='same')(layer)\n",
    "    layer = LeakyReLU(alpha=0.2)(layer)\n",
    "    layer = Conv2D(1, (7, 7), activation='sigmoid', padding='same')(layer)\n",
    "    \n",
    "    model =  Model(network_input, layer)\n",
    "        \n",
    "    return model"
   ]
  },
  {
   "cell_type": "code",
   "execution_count": 8,
   "metadata": {
    "colab": {
     "base_uri": "https://localhost:8080/",
     "height": 459
    },
    "colab_type": "code",
    "id": "xH2SOzEMr_y7",
    "outputId": "240fda8d-59c3-4323-d9d3-13c310f85613"
   },
   "outputs": [
    {
     "name": "stdout",
     "output_type": "stream",
     "text": [
      "_________________________________________________________________\n",
      "Layer (type)                 Output Shape              Param #   \n",
      "=================================================================\n",
      "input_2 (InputLayer)         (None, 100)               0         \n",
      "_________________________________________________________________\n",
      "dense_2 (Dense)              (None, 6272)              633472    \n",
      "_________________________________________________________________\n",
      "leaky_re_lu_3 (LeakyReLU)    (None, 6272)              0         \n",
      "_________________________________________________________________\n",
      "reshape_1 (Reshape)          (None, 7, 7, 128)         0         \n",
      "_________________________________________________________________\n",
      "conv2d_transpose_1 (Conv2DTr (None, 14, 14, 128)       262272    \n",
      "_________________________________________________________________\n",
      "leaky_re_lu_4 (LeakyReLU)    (None, 14, 14, 128)       0         \n",
      "_________________________________________________________________\n",
      "conv2d_transpose_2 (Conv2DTr (None, 28, 28, 128)       262272    \n",
      "_________________________________________________________________\n",
      "leaky_re_lu_5 (LeakyReLU)    (None, 28, 28, 128)       0         \n",
      "_________________________________________________________________\n",
      "conv2d_3 (Conv2D)            (None, 28, 28, 1)         6273      \n",
      "=================================================================\n",
      "Total params: 1,164,289\n",
      "Trainable params: 1,164,289\n",
      "Non-trainable params: 0\n",
      "_________________________________________________________________\n"
     ]
    }
   ],
   "source": [
    "generator = generator_model(100)\n",
    "generator.summary()"
   ]
  },
  {
   "cell_type": "code",
   "execution_count": 9,
   "metadata": {
    "colab": {},
    "colab_type": "code",
    "id": "dFn0w__jr_zA"
   },
   "outputs": [],
   "source": [
    "def generate_latent_points(latent_dim: int, n_samples: int) -> np.ndarray:\n",
    "    \n",
    "    x_input = np.random.randn(latent_dim * n_samples)\n",
    "    x_input = x_input.reshape(n_samples, latent_dim)\n",
    "    \n",
    "    return x_input"
   ]
  },
  {
   "cell_type": "code",
   "execution_count": 10,
   "metadata": {
    "colab": {},
    "colab_type": "code",
    "id": "LDZGWmOdr_zE"
   },
   "outputs": [],
   "source": [
    "def generate_fake_generator_samples(generator: Model, latent_dim: int, n_samples: int) -> (np.ndarray, np.ndarray):\n",
    "    \n",
    "    x_input = generate_latent_points(latent_dim, n_samples)\n",
    "    \n",
    "    X = generator.predict(x_input)\n",
    "    \n",
    "    y = np.zeros((n_samples, 1)) # Zeros because we want to convince the generator that these are fakes\n",
    "    \n",
    "    return X, y"
   ]
  },
  {
   "cell_type": "markdown",
   "metadata": {
    "colab_type": "text",
    "id": "oEjUy4x3r_zG"
   },
   "source": [
    "### Initial generator examples"
   ]
  },
  {
   "cell_type": "code",
   "execution_count": 11,
   "metadata": {
    "colab": {
     "base_uri": "https://localhost:8080/",
     "height": 129
    },
    "colab_type": "code",
    "id": "dRg90RtEr_zI",
    "outputId": "82ec1ce0-7412-40cd-f446-14a900f9c846"
   },
   "outputs": [
    {
     "data": {
      "image/png": "[encoded data removed]",
      "text/plain": [
       "<Figure size 1440x1440 with 10 Axes>"
      ]
     },
     "metadata": {},
     "output_type": "display_data"
    }
   ],
   "source": [
    "initial_generator_samples, _ = generate_fake_generator_samples(generator, 100, 10)\n",
    "\n",
    "plt.figure(figsize=(20, 20))\n",
    "for i in range(10):\n",
    "    ax = plt.subplot(1, 10, i + 1)\n",
    "    plt.imshow(initial_generator_samples[i].reshape((28, 28)))\n",
    "    plt.gray()\n",
    "    ax.get_xaxis().set_visible(False)\n",
    "    ax.get_yaxis().set_visible(False)\n",
    "\n",
    "plt.show()"
   ]
  },
  {
   "cell_type": "markdown",
   "metadata": {
    "colab_type": "text",
    "id": "Cy_uXov2r_zQ"
   },
   "source": [
    "## Defining a GAN"
   ]
  },
  {
   "cell_type": "code",
   "execution_count": 12,
   "metadata": {
    "colab": {},
    "colab_type": "code",
    "id": "O26Ksgopr_zR"
   },
   "outputs": [],
   "source": [
    "from keras.models import Sequential"
   ]
  },
  {
   "cell_type": "code",
   "execution_count": 13,
   "metadata": {
    "colab": {},
    "colab_type": "code",
    "id": "UAzsC9Vur_zV"
   },
   "outputs": [],
   "source": [
    "def define_gan(g_model: Model, d_model: Model) -> Model:\n",
    "    \n",
    "    d_model.trainable = False\n",
    "    \n",
    "    model = Sequential()\n",
    "    \n",
    "    model.add(g_model)\n",
    "    \n",
    "    model.add(d_model)\n",
    "    \n",
    "    opt = Adam(lr=0.0002, beta_1=0.5)\n",
    "    \n",
    "    model.compile(loss='binary_crossentropy', optimizer=opt, metrics=['accuracy'])\n",
    "    \n",
    "    return model"
   ]
  },
  {
   "cell_type": "code",
   "execution_count": 14,
   "metadata": {
    "colab": {
     "base_uri": "https://localhost:8080/",
     "height": 221
    },
    "colab_type": "code",
    "id": "Bsg7B4lMr_zY",
    "outputId": "17bcd878-8349-427f-d91e-e74b5b8a1f89"
   },
   "outputs": [
    {
     "name": "stdout",
     "output_type": "stream",
     "text": [
      "_________________________________________________________________\n",
      "Layer (type)                 Output Shape              Param #   \n",
      "=================================================================\n",
      "model_2 (Model)              (None, 28, 28, 1)         1164289   \n",
      "_________________________________________________________________\n",
      "model_1 (Model)              (None, 1)                 40705     \n",
      "=================================================================\n",
      "Total params: 1,204,994\n",
      "Trainable params: 1,164,289\n",
      "Non-trainable params: 40,705\n",
      "_________________________________________________________________\n"
     ]
    }
   ],
   "source": [
    "gan_model = define_gan(generator, discriminator)\n",
    "gan_model.summary()"
   ]
  },
  {
   "cell_type": "markdown",
   "metadata": {
    "colab_type": "text",
    "id": "8fUtyHlCr_zb"
   },
   "source": [
    "## Training the GAN model"
   ]
  },
  {
   "cell_type": "code",
   "execution_count": 15,
   "metadata": {
    "colab": {},
    "colab_type": "code",
    "id": "8wYPjFe4r_zb"
   },
   "outputs": [],
   "source": [
    "def test_generator(generator: Model, data: np.ndarray):\n",
    "    \n",
    "    generator_output = generator.predict(data)\n",
    "    plt.figure(figsize=(20, 20))\n",
    "    for i in range(10):\n",
    "        ax = plt.subplot(1, 10, i + 1)\n",
    "        plt.imshow(generator_output[i].reshape((28, 28)))\n",
    "        plt.gray()\n",
    "        ax.get_xaxis().set_visible(False)\n",
    "        ax.get_yaxis().set_visible(False)\n",
    "\n",
    "    plt.show()"
   ]
  },
  {
   "cell_type": "code",
   "execution_count": 16,
   "metadata": {},
   "outputs": [
    {
     "name": "stdout",
     "output_type": "stream",
     "text": [
      "Disc metrics: ['loss', 'acc']\n",
      "GAN metrics: ['loss', 'acc']\n"
     ]
    }
   ],
   "source": [
    "print(f'Disc metrics: {discriminator.metrics_names}')\n",
    "print(f'GAN metrics: {gan_model.metrics_names}')"
   ]
  },
  {
   "cell_type": "markdown",
   "metadata": {},
   "source": [
    "### Setting up tensorboard"
   ]
  },
  {
   "cell_type": "code",
   "execution_count": 80,
   "metadata": {},
   "outputs": [],
   "source": [
    "from keras.callbacks import TensorBoard, Callback\n",
    "import tensorflow as tf\n",
    "import io"
   ]
  },
  {
   "cell_type": "code",
   "execution_count": null,
   "metadata": {},
   "outputs": [],
   "source": [
    "class image_writer(Callback):\n",
    "    \n",
    "    def __init__(self, log_dir: str, latent_dim: int):\n",
    "        self.noise = generate_latent_points(latent_dim, 5)\n",
    "        self.file_writer = tf.summary.FileWriter(log_dir)\n",
    "        \n",
    "    def on_epoch_end(self, epoch, logs=None):\n",
    "        \n",
    "        epoch_output = self.model.predict(self.noise)\n",
    "        \n",
    "        figure = plt.figure()\n",
    "        for i in range(5):\n",
    "            ax = plt.subplot(1, 10, i + 1)\n",
    "            plt.imshow(epoch_output[i].reshape((28, 28)))\n",
    "            plt.gray()\n",
    "            ax.get_xaxis().set_visible(False)\n",
    "            ax.get_yaxis().set_visible(False)\n",
    "\n",
    "        buf = io.BytesIO()\n",
    "        plt.savefig(buf, format='png')\n",
    "        image_string = buf.getvalue()\n",
    "        plt.close(figure)\n",
    "        \n",
    "        image = tf.Summary.Image(height=28,\n",
    "                                 width=28,\n",
    "                                 colorspace=1,\n",
    "                                 encoded_image_string=image_string)\n",
    "        \n",
    "        summary = tf.Summary(value=[tf.Summary.Value(image=image)])\n",
    "        self.file_writer.add_summary(summary, epoch)"
   ]
  },
  {
   "cell_type": "code",
   "execution_count": null,
   "metadata": {},
   "outputs": [],
   "source": [
    "def tensorboard(log_dir, batch_size: int, model: Model) -> TensorBoard:\n",
    "    \n",
    "    _tensorboard = TensorBoard(log_dir=log_dir,\n",
    "                               histogram_freq=0,\n",
    "                               batch_size=batch_size,\n",
    "                               write_graph=True, \n",
    "                               write_grads=True)\n",
    "    \n",
    "    _tensorboard.set_model(model)\n",
    "    \n",
    "    print(f'Initialized Tensorboard with logdir={log_dir}')\n",
    "    \n",
    "    return _tensorboard\n",
    "\n",
    "\n",
    "\n",
    "def named_logs(model: Model, logs) -> dict:\n",
    "    # Creates a dictionary mapping model metrics to log data\n",
    "    # eg. for GAN metrics are ['loss', 'acc'], so logs should be eg. [0.23, 0.95]\n",
    "    \n",
    "    result = {}\n",
    "    \n",
    "    for metric, value in zip(model.metrics_names, logs):\n",
    "        result[metric] = value\n",
    "    \n",
    "    return result\n",
    "\n",
    "def named_logs(metrics: list, logs: list) -> dict:\n",
    "    # Creates a dictionary mapping metrics to log data\n",
    "    # eg. for GAN metrics are ['loss', 'acc'], so logs should be eg. [0.23, 0.95]\n",
    "    \n",
    "    result = {}\n",
    "    \n",
    "    for metric, value in zip(metrics, logs):\n",
    "        result[metric] = value\n",
    "    \n",
    "    return result\n",
    "\n",
    "def s_named_logs(metrics:list, logs: list) -> str:\n",
    "        \n",
    "        logs = named_logs(metrics, logs)\n",
    "        \n",
    "        return ', '.join([f'{key}: {val}' for key, val in logs.items()])"
   ]
  },
  {
   "cell_type": "markdown",
   "metadata": {},
   "source": [
    "### Restarting models"
   ]
  },
  {
   "cell_type": "code",
   "execution_count": 99,
   "metadata": {},
   "outputs": [],
   "source": [
    "discriminator = discriminator_model()\n",
    "generator = generator_model(100)\n",
    "gan_model = define_gan(generator, discriminator)"
   ]
  },
  {
   "cell_type": "code",
   "execution_count": 101,
   "metadata": {
    "colab": {},
    "colab_type": "code",
    "id": "a3f_WnU7r_zd"
   },
   "outputs": [],
   "source": [
    "def train(name: str, g_model: Model, d_model: Model, gan_model: Model, dataset: np.ndarray, latent_dim: int, n_epochs=100, n_batch=256):\n",
    "    \n",
    "    batches_per_epoch = int(dataset.shape[0] / n_epochs)\n",
    "    half_batch = int(n_batch / 2)\n",
    "\n",
    "    log_path = f'tf_logs/{name}'\n",
    "    \n",
    "    _tensorboard = tensorboard(log_path, n_batch, gan_model)\n",
    "    image_vis = image_writer(log_path, latent_dim)\n",
    "    image_vis.set_model(g_model)\n",
    "    \n",
    "    metrics = ['loss', 'acc', 'val_loss', 'val_acc']\n",
    "    \n",
    "    test_data = generate_latent_points(latent_dim, 10)\n",
    "    \n",
    "    for i in range(n_epochs):\n",
    "        for j in range(batches_per_epoch):\n",
    "            \n",
    "            X_real, y_real = generate_real_samples(dataset, half_batch)\n",
    "            X_fake, y_fake = generate_fake_generator_samples(g_model, latent_dim, half_batch)\n",
    "            \n",
    "            X, y = np.vstack((X_real, X_fake)), np.vstack((y_real, y_fake))\n",
    "            d_loss, d_acc = d_model.train_on_batch(X, y)\n",
    "            \n",
    "            X_gan = generate_latent_points(latent_dim, n_batch)\n",
    "            \n",
    "            y_gan = np.ones((n_batch, 1))\n",
    "            \n",
    "            # List of scalars loss, acc\n",
    "            # This is the model we are most interested in learning so\n",
    "            # its progress is going to be tracked with Tensorboard\n",
    "            gan_loss, gan_acc = gan_model.train_on_batch(X_gan, y_gan)\n",
    "            \n",
    "            X_val_gan = generate_latent_points(latent_dim, n_batch)\n",
    "            \n",
    "            y_val_gan = np.ones((n_batch, 1))\n",
    "            \n",
    "            gan_val_loss, gan_val_acc = gan_model.test_on_batch(X_val_gan, y_val_gan)\n",
    "            \n",
    "            gan_logs =  [gan_loss, gan_acc, gan_val_loss, gan_val_acc]\n",
    "            gan_logs_dic = s_named_logs(metrics, gan_logs)\n",
    "            \n",
    "            if (j + 1) % batches_per_epoch == 0:\n",
    "                print(f'{i+1}, d_loss={d_loss}, d_acc={d_acc}, gan={gan_logs_dic}')\n",
    "                \n",
    "        print('epoch over, writing callbacks')\n",
    "        _tensorboard.on_epoch_end(i + 1, named_logs(metrics, gan_logs))\n",
    "        image_vis.on_epoch_end(i + 1)\n",
    "        \n",
    "#         if (i + 1) % 5 == 0:\n",
    "#             test_generator(g_model, test_data)"
   ]
  },
  {
   "cell_type": "code",
   "execution_count": 102,
   "metadata": {
    "colab": {
     "base_uri": "https://localhost:8080/",
     "height": 1000
    },
    "colab_type": "code",
    "id": "ngjLHumsr_zf",
    "outputId": "067ab86f-70a1-467e-9727-5b4446e292be"
   },
   "outputs": [
    {
     "name": "stdout",
     "output_type": "stream",
     "text": [
      "Initialized Tensorboard with logdir=tf_logs/testing\n"
     ]
    },
    {
     "name": "stderr",
     "output_type": "stream",
     "text": [
      "/usr/local/lib/python3.6/dist-packages/keras/engine/training.py:973: UserWarning: Discrepancy between trainable weights and collected trainable weights, did you set `model.trainable` without calling `model.compile` after ?\n",
      "  'Discrepancy between trainable weights and collected trainable'\n"
     ]
    },
    {
     "name": "stdout",
     "output_type": "stream",
     "text": [
      "1, d_loss=2.550748825073242, d_acc=0.046875, gan=loss: 0.5004511475563049, acc: 0.80078125, val_loss: 0.3214930295944214, val_acc: 0.96875\n",
      "epoch over, writing callbacks\n",
      "2, d_loss=0.7057170867919922, d_acc=0.5078125, gan=loss: 0.7218456864356995, acc: 0.46484375, val_loss: 0.7245511412620544, val_acc: 0.40234375\n",
      "epoch over, writing callbacks\n",
      "3, d_loss=0.6899826526641846, d_acc=0.51953125, gan=loss: 0.7021841406822205, acc: 0.48828125, val_loss: 0.7091665267944336, val_acc: 0.3984375\n",
      "epoch over, writing callbacks\n",
      "4, d_loss=0.6585190296173096, d_acc=0.640625, gan=loss: 0.7454869747161865, acc: 0.35546875, val_loss: 0.7477824687957764, val_acc: 0.1796875\n",
      "epoch over, writing callbacks\n",
      "5, d_loss=0.6657395958900452, d_acc=0.625, gan=loss: 0.7403038144111633, acc: 0.32421875, val_loss: 0.7464656233787537, val_acc: 0.19140625\n",
      "epoch over, writing callbacks\n",
      "6, d_loss=0.6750361919403076, d_acc=0.58984375, gan=loss: 0.7365086078643799, acc: 0.3046875, val_loss: 0.7364716529846191, val_acc: 0.18359375\n",
      "epoch over, writing callbacks\n",
      "7, d_loss=0.6875258684158325, d_acc=0.546875, gan=loss: 0.7110930681228638, acc: 0.41796875, val_loss: 0.7184537649154663, val_acc: 0.25390625\n",
      "epoch over, writing callbacks\n",
      "8, d_loss=0.6756770610809326, d_acc=0.6015625, gan=loss: 0.7455027103424072, acc: 0.30078125, val_loss: 0.7356851100921631, val_acc: 0.19921875\n",
      "epoch over, writing callbacks\n",
      "9, d_loss=0.6832143664360046, d_acc=0.5546875, gan=loss: 0.7726992964744568, acc: 0.19921875, val_loss: 0.7672126293182373, val_acc: 0.05078125\n",
      "epoch over, writing callbacks\n",
      "10, d_loss=0.6759816408157349, d_acc=0.5859375, gan=loss: 0.7998642325401306, acc: 0.1171875, val_loss: 0.7917039394378662, val_acc: 0.01171875\n",
      "epoch over, writing callbacks\n",
      "11, d_loss=0.6791738271713257, d_acc=0.59765625, gan=loss: 0.719255805015564, acc: 0.4140625, val_loss: 0.7138514518737793, val_acc: 0.2890625\n",
      "epoch over, writing callbacks\n",
      "12, d_loss=0.6792201995849609, d_acc=0.609375, gan=loss: 0.6868847012519836, acc: 0.515625, val_loss: 0.6948575377464294, val_acc: 0.46484375\n",
      "epoch over, writing callbacks\n",
      "13, d_loss=0.6846668720245361, d_acc=0.5625, gan=loss: 0.6758556365966797, acc: 0.59375, val_loss: 0.6716904640197754, val_acc: 0.80078125\n",
      "epoch over, writing callbacks\n",
      "14, d_loss=0.6847466826438904, d_acc=0.51171875, gan=loss: 0.7056939601898193, acc: 0.44140625, val_loss: 0.7088435888290405, val_acc: 0.25390625\n",
      "epoch over, writing callbacks\n",
      "15, d_loss=0.6823883056640625, d_acc=0.5703125, gan=loss: 0.711691677570343, acc: 0.43359375, val_loss: 0.7095913290977478, val_acc: 0.2734375\n",
      "epoch over, writing callbacks\n",
      "16, d_loss=0.6921329498291016, d_acc=0.53515625, gan=loss: 0.7047926783561707, acc: 0.4375, val_loss: 0.7101828455924988, val_acc: 0.22265625\n",
      "epoch over, writing callbacks\n",
      "17, d_loss=0.6887678503990173, d_acc=0.5703125, gan=loss: 0.6961144804954529, acc: 0.50390625, val_loss: 0.7060438394546509, val_acc: 0.30859375\n",
      "epoch over, writing callbacks\n",
      "18, d_loss=0.687283456325531, d_acc=0.5390625, gan=loss: 0.7314375638961792, acc: 0.3203125, val_loss: 0.7307350039482117, val_acc: 0.0546875\n",
      "epoch over, writing callbacks\n",
      "19, d_loss=0.6872535347938538, d_acc=0.546875, gan=loss: 0.7056909203529358, acc: 0.44921875, val_loss: 0.7147530913352966, val_acc: 0.19921875\n",
      "epoch over, writing callbacks\n",
      "20, d_loss=0.6747437119483948, d_acc=0.62109375, gan=loss: 0.6984434723854065, acc: 0.4921875, val_loss: 0.6997590661048889, val_acc: 0.37890625\n",
      "epoch over, writing callbacks\n",
      "21, d_loss=0.6872909069061279, d_acc=0.515625, gan=loss: 0.7453909516334534, acc: 0.2734375, val_loss: 0.7590614557266235, val_acc: 0.0078125\n",
      "epoch over, writing callbacks\n",
      "22, d_loss=0.6794463396072388, d_acc=0.5859375, gan=loss: 0.6817799806594849, acc: 0.5546875, val_loss: 0.6915323138237, val_acc: 0.53125\n",
      "epoch over, writing callbacks\n",
      "23, d_loss=0.6940169930458069, d_acc=0.50390625, gan=loss: 0.652471125125885, acc: 0.6875, val_loss: 0.6558085083961487, val_acc: 0.9140625\n",
      "epoch over, writing callbacks\n",
      "24, d_loss=0.6867651343345642, d_acc=0.54296875, gan=loss: 0.7490984797477722, acc: 0.28125, val_loss: 0.7571823596954346, val_acc: 0.0\n",
      "epoch over, writing callbacks\n",
      "25, d_loss=0.6794977188110352, d_acc=0.5703125, gan=loss: 0.6981765031814575, acc: 0.50390625, val_loss: 0.7019502520561218, val_acc: 0.35546875\n",
      "epoch over, writing callbacks\n",
      "26, d_loss=0.6963128447532654, d_acc=0.50390625, gan=loss: 0.7994282841682434, acc: 0.1640625, val_loss: 0.8006514310836792, val_acc: 0.0\n",
      "epoch over, writing callbacks\n",
      "27, d_loss=0.6944363713264465, d_acc=0.515625, gan=loss: 0.6763423681259155, acc: 0.6015625, val_loss: 0.6814002394676208, val_acc: 0.67578125\n",
      "epoch over, writing callbacks\n",
      "28, d_loss=0.6772504448890686, d_acc=0.58984375, gan=loss: 0.6991403102874756, acc: 0.49609375, val_loss: 0.7111244797706604, val_acc: 0.1875\n",
      "epoch over, writing callbacks\n",
      "29, d_loss=0.6880089044570923, d_acc=0.53515625, gan=loss: 0.6851813197135925, acc: 0.56640625, val_loss: 0.6931283473968506, val_acc: 0.5234375\n",
      "epoch over, writing callbacks\n",
      "30, d_loss=0.6857355237007141, d_acc=0.53125, gan=loss: 0.7303340435028076, acc: 0.37109375, val_loss: 0.7305411100387573, val_acc: 0.0703125\n",
      "epoch over, writing callbacks\n",
      "31, d_loss=0.6769416332244873, d_acc=0.61328125, gan=loss: 0.7757680416107178, acc: 0.17578125, val_loss: 0.7828474640846252, val_acc: 0.0\n",
      "epoch over, writing callbacks\n"
     ]
    },
    {
     "ename": "KeyboardInterrupt",
     "evalue": "",
     "output_type": "error",
     "traceback": [
      "\u001b[0;31m---------------------------------------------------------------------------\u001b[0m",
      "\u001b[0;31mKeyboardInterrupt\u001b[0m                         Traceback (most recent call last)",
      "\u001b[0;32m<ipython-input-102-1d70771904ea>\u001b[0m in \u001b[0;36m<module>\u001b[0;34m()\u001b[0m\n\u001b[0;32m----> 1\u001b[0;31m \u001b[0mtrain\u001b[0m\u001b[0;34m(\u001b[0m\u001b[0;34m'testing'\u001b[0m\u001b[0;34m,\u001b[0m \u001b[0mgenerator\u001b[0m\u001b[0;34m,\u001b[0m \u001b[0mdiscriminator\u001b[0m\u001b[0;34m,\u001b[0m \u001b[0mgan_model\u001b[0m\u001b[0;34m,\u001b[0m \u001b[0mX_mnist_train\u001b[0m\u001b[0;34m[\u001b[0m\u001b[0;34m:\u001b[0m\u001b[0;36m20000\u001b[0m\u001b[0;34m]\u001b[0m\u001b[0;34m,\u001b[0m \u001b[0;36m100\u001b[0m\u001b[0;34m,\u001b[0m \u001b[0;36m70\u001b[0m\u001b[0;34m)\u001b[0m\u001b[0;34m\u001b[0m\u001b[0;34m\u001b[0m\u001b[0m\n\u001b[0m",
      "\u001b[0;32m<ipython-input-101-c1f9ff1edecc>\u001b[0m in \u001b[0;36mtrain\u001b[0;34m(name, g_model, d_model, gan_model, dataset, latent_dim, n_epochs, n_batch)\u001b[0m\n\u001b[1;32m     30\u001b[0m             \u001b[0;31m# This is the model we are most interested in learning so\u001b[0m\u001b[0;34m\u001b[0m\u001b[0;34m\u001b[0m\u001b[0;34m\u001b[0m\u001b[0m\n\u001b[1;32m     31\u001b[0m             \u001b[0;31m# its progress is going to be tracked with Tensorboard\u001b[0m\u001b[0;34m\u001b[0m\u001b[0;34m\u001b[0m\u001b[0;34m\u001b[0m\u001b[0m\n\u001b[0;32m---> 32\u001b[0;31m             \u001b[0mgan_loss\u001b[0m\u001b[0;34m,\u001b[0m \u001b[0mgan_acc\u001b[0m \u001b[0;34m=\u001b[0m \u001b[0mgan_model\u001b[0m\u001b[0;34m.\u001b[0m\u001b[0mtrain_on_batch\u001b[0m\u001b[0;34m(\u001b[0m\u001b[0mX_gan\u001b[0m\u001b[0;34m,\u001b[0m \u001b[0my_gan\u001b[0m\u001b[0;34m)\u001b[0m\u001b[0;34m\u001b[0m\u001b[0;34m\u001b[0m\u001b[0m\n\u001b[0m\u001b[1;32m     33\u001b[0m \u001b[0;34m\u001b[0m\u001b[0m\n\u001b[1;32m     34\u001b[0m             \u001b[0mX_val_gan\u001b[0m \u001b[0;34m=\u001b[0m \u001b[0mgenerate_latent_points\u001b[0m\u001b[0;34m(\u001b[0m\u001b[0mlatent_dim\u001b[0m\u001b[0;34m,\u001b[0m \u001b[0mn_batch\u001b[0m\u001b[0;34m)\u001b[0m\u001b[0;34m\u001b[0m\u001b[0;34m\u001b[0m\u001b[0m\n",
      "\u001b[0;32m/usr/local/lib/python3.6/dist-packages/keras/models.py\u001b[0m in \u001b[0;36mtrain_on_batch\u001b[0;34m(self, x, y, class_weight, sample_weight)\u001b[0m\n\u001b[1;32m   1065\u001b[0m         return self.model.train_on_batch(x, y,\n\u001b[1;32m   1066\u001b[0m                                          \u001b[0msample_weight\u001b[0m\u001b[0;34m=\u001b[0m\u001b[0msample_weight\u001b[0m\u001b[0;34m,\u001b[0m\u001b[0;34m\u001b[0m\u001b[0;34m\u001b[0m\u001b[0m\n\u001b[0;32m-> 1067\u001b[0;31m                                          class_weight=class_weight)\n\u001b[0m\u001b[1;32m   1068\u001b[0m \u001b[0;34m\u001b[0m\u001b[0m\n\u001b[1;32m   1069\u001b[0m     def test_on_batch(self, x, y,\n",
      "\u001b[0;32m/usr/local/lib/python3.6/dist-packages/keras/engine/training.py\u001b[0m in \u001b[0;36mtrain_on_batch\u001b[0;34m(self, x, y, sample_weight, class_weight)\u001b[0m\n\u001b[1;32m   1881\u001b[0m             \u001b[0mins\u001b[0m \u001b[0;34m=\u001b[0m \u001b[0mx\u001b[0m \u001b[0;34m+\u001b[0m \u001b[0my\u001b[0m \u001b[0;34m+\u001b[0m \u001b[0msample_weights\u001b[0m\u001b[0;34m\u001b[0m\u001b[0;34m\u001b[0m\u001b[0m\n\u001b[1;32m   1882\u001b[0m         \u001b[0mself\u001b[0m\u001b[0;34m.\u001b[0m\u001b[0m_make_train_function\u001b[0m\u001b[0;34m(\u001b[0m\u001b[0;34m)\u001b[0m\u001b[0;34m\u001b[0m\u001b[0;34m\u001b[0m\u001b[0m\n\u001b[0;32m-> 1883\u001b[0;31m         \u001b[0moutputs\u001b[0m \u001b[0;34m=\u001b[0m \u001b[0mself\u001b[0m\u001b[0;34m.\u001b[0m\u001b[0mtrain_function\u001b[0m\u001b[0;34m(\u001b[0m\u001b[0mins\u001b[0m\u001b[0;34m)\u001b[0m\u001b[0;34m\u001b[0m\u001b[0;34m\u001b[0m\u001b[0m\n\u001b[0m\u001b[1;32m   1884\u001b[0m         \u001b[0;32mif\u001b[0m \u001b[0mlen\u001b[0m\u001b[0;34m(\u001b[0m\u001b[0moutputs\u001b[0m\u001b[0;34m)\u001b[0m \u001b[0;34m==\u001b[0m \u001b[0;36m1\u001b[0m\u001b[0;34m:\u001b[0m\u001b[0;34m\u001b[0m\u001b[0;34m\u001b[0m\u001b[0m\n\u001b[1;32m   1885\u001b[0m             \u001b[0;32mreturn\u001b[0m \u001b[0moutputs\u001b[0m\u001b[0;34m[\u001b[0m\u001b[0;36m0\u001b[0m\u001b[0;34m]\u001b[0m\u001b[0;34m\u001b[0m\u001b[0;34m\u001b[0m\u001b[0m\n",
      "\u001b[0;32m/usr/local/lib/python3.6/dist-packages/keras/backend/tensorflow_backend.py\u001b[0m in \u001b[0;36m__call__\u001b[0;34m(self, inputs)\u001b[0m\n\u001b[1;32m   2476\u001b[0m         \u001b[0msession\u001b[0m \u001b[0;34m=\u001b[0m \u001b[0mget_session\u001b[0m\u001b[0;34m(\u001b[0m\u001b[0;34m)\u001b[0m\u001b[0;34m\u001b[0m\u001b[0;34m\u001b[0m\u001b[0m\n\u001b[1;32m   2477\u001b[0m         updated = session.run(fetches=fetches, feed_dict=feed_dict,\n\u001b[0;32m-> 2478\u001b[0;31m                               **self.session_kwargs)\n\u001b[0m\u001b[1;32m   2479\u001b[0m         \u001b[0;32mreturn\u001b[0m \u001b[0mupdated\u001b[0m\u001b[0;34m[\u001b[0m\u001b[0;34m:\u001b[0m\u001b[0mlen\u001b[0m\u001b[0;34m(\u001b[0m\u001b[0mself\u001b[0m\u001b[0;34m.\u001b[0m\u001b[0moutputs\u001b[0m\u001b[0;34m)\u001b[0m\u001b[0;34m]\u001b[0m\u001b[0;34m\u001b[0m\u001b[0;34m\u001b[0m\u001b[0m\n\u001b[1;32m   2480\u001b[0m \u001b[0;34m\u001b[0m\u001b[0m\n",
      "\u001b[0;32m/usr/local/lib/python3.6/dist-packages/tensorflow/python/client/session.py\u001b[0m in \u001b[0;36mrun\u001b[0;34m(self, fetches, feed_dict, options, run_metadata)\u001b[0m\n\u001b[1;32m    903\u001b[0m     \u001b[0;32mtry\u001b[0m\u001b[0;34m:\u001b[0m\u001b[0;34m\u001b[0m\u001b[0;34m\u001b[0m\u001b[0m\n\u001b[1;32m    904\u001b[0m       result = self._run(None, fetches, feed_dict, options_ptr,\n\u001b[0;32m--> 905\u001b[0;31m                          run_metadata_ptr)\n\u001b[0m\u001b[1;32m    906\u001b[0m       \u001b[0;32mif\u001b[0m \u001b[0mrun_metadata\u001b[0m\u001b[0;34m:\u001b[0m\u001b[0;34m\u001b[0m\u001b[0;34m\u001b[0m\u001b[0m\n\u001b[1;32m    907\u001b[0m         \u001b[0mproto_data\u001b[0m \u001b[0;34m=\u001b[0m \u001b[0mtf_session\u001b[0m\u001b[0;34m.\u001b[0m\u001b[0mTF_GetBuffer\u001b[0m\u001b[0;34m(\u001b[0m\u001b[0mrun_metadata_ptr\u001b[0m\u001b[0;34m)\u001b[0m\u001b[0;34m\u001b[0m\u001b[0;34m\u001b[0m\u001b[0m\n",
      "\u001b[0;32m/usr/local/lib/python3.6/dist-packages/tensorflow/python/client/session.py\u001b[0m in \u001b[0;36m_run\u001b[0;34m(self, handle, fetches, feed_dict, options, run_metadata)\u001b[0m\n\u001b[1;32m   1135\u001b[0m     \u001b[0;32mif\u001b[0m \u001b[0mfinal_fetches\u001b[0m \u001b[0;32mor\u001b[0m \u001b[0mfinal_targets\u001b[0m \u001b[0;32mor\u001b[0m \u001b[0;34m(\u001b[0m\u001b[0mhandle\u001b[0m \u001b[0;32mand\u001b[0m \u001b[0mfeed_dict_tensor\u001b[0m\u001b[0;34m)\u001b[0m\u001b[0;34m:\u001b[0m\u001b[0;34m\u001b[0m\u001b[0;34m\u001b[0m\u001b[0m\n\u001b[1;32m   1136\u001b[0m       results = self._do_run(handle, final_targets, final_fetches,\n\u001b[0;32m-> 1137\u001b[0;31m                              feed_dict_tensor, options, run_metadata)\n\u001b[0m\u001b[1;32m   1138\u001b[0m     \u001b[0;32melse\u001b[0m\u001b[0;34m:\u001b[0m\u001b[0;34m\u001b[0m\u001b[0;34m\u001b[0m\u001b[0m\n\u001b[1;32m   1139\u001b[0m       \u001b[0mresults\u001b[0m \u001b[0;34m=\u001b[0m \u001b[0;34m[\u001b[0m\u001b[0;34m]\u001b[0m\u001b[0;34m\u001b[0m\u001b[0;34m\u001b[0m\u001b[0m\n",
      "\u001b[0;32m/usr/local/lib/python3.6/dist-packages/tensorflow/python/client/session.py\u001b[0m in \u001b[0;36m_do_run\u001b[0;34m(self, handle, target_list, fetch_list, feed_dict, options, run_metadata)\u001b[0m\n\u001b[1;32m   1353\u001b[0m     \u001b[0;32mif\u001b[0m \u001b[0mhandle\u001b[0m \u001b[0;32mis\u001b[0m \u001b[0;32mNone\u001b[0m\u001b[0;34m:\u001b[0m\u001b[0;34m\u001b[0m\u001b[0;34m\u001b[0m\u001b[0m\n\u001b[1;32m   1354\u001b[0m       return self._do_call(_run_fn, self._session, feeds, fetches, targets,\n\u001b[0;32m-> 1355\u001b[0;31m                            options, run_metadata)\n\u001b[0m\u001b[1;32m   1356\u001b[0m     \u001b[0;32melse\u001b[0m\u001b[0;34m:\u001b[0m\u001b[0;34m\u001b[0m\u001b[0;34m\u001b[0m\u001b[0m\n\u001b[1;32m   1357\u001b[0m       \u001b[0;32mreturn\u001b[0m \u001b[0mself\u001b[0m\u001b[0;34m.\u001b[0m\u001b[0m_do_call\u001b[0m\u001b[0;34m(\u001b[0m\u001b[0m_prun_fn\u001b[0m\u001b[0;34m,\u001b[0m \u001b[0mself\u001b[0m\u001b[0;34m.\u001b[0m\u001b[0m_session\u001b[0m\u001b[0;34m,\u001b[0m \u001b[0mhandle\u001b[0m\u001b[0;34m,\u001b[0m \u001b[0mfeeds\u001b[0m\u001b[0;34m,\u001b[0m \u001b[0mfetches\u001b[0m\u001b[0;34m)\u001b[0m\u001b[0;34m\u001b[0m\u001b[0;34m\u001b[0m\u001b[0m\n",
      "\u001b[0;32m/usr/local/lib/python3.6/dist-packages/tensorflow/python/client/session.py\u001b[0m in \u001b[0;36m_do_call\u001b[0;34m(self, fn, *args)\u001b[0m\n\u001b[1;32m   1359\u001b[0m   \u001b[0;32mdef\u001b[0m \u001b[0m_do_call\u001b[0m\u001b[0;34m(\u001b[0m\u001b[0mself\u001b[0m\u001b[0;34m,\u001b[0m \u001b[0mfn\u001b[0m\u001b[0;34m,\u001b[0m \u001b[0;34m*\u001b[0m\u001b[0margs\u001b[0m\u001b[0;34m)\u001b[0m\u001b[0;34m:\u001b[0m\u001b[0;34m\u001b[0m\u001b[0;34m\u001b[0m\u001b[0m\n\u001b[1;32m   1360\u001b[0m     \u001b[0;32mtry\u001b[0m\u001b[0;34m:\u001b[0m\u001b[0;34m\u001b[0m\u001b[0;34m\u001b[0m\u001b[0m\n\u001b[0;32m-> 1361\u001b[0;31m       \u001b[0;32mreturn\u001b[0m \u001b[0mfn\u001b[0m\u001b[0;34m(\u001b[0m\u001b[0;34m*\u001b[0m\u001b[0margs\u001b[0m\u001b[0;34m)\u001b[0m\u001b[0;34m\u001b[0m\u001b[0;34m\u001b[0m\u001b[0m\n\u001b[0m\u001b[1;32m   1362\u001b[0m     \u001b[0;32mexcept\u001b[0m \u001b[0merrors\u001b[0m\u001b[0;34m.\u001b[0m\u001b[0mOpError\u001b[0m \u001b[0;32mas\u001b[0m \u001b[0me\u001b[0m\u001b[0;34m:\u001b[0m\u001b[0;34m\u001b[0m\u001b[0;34m\u001b[0m\u001b[0m\n\u001b[1;32m   1363\u001b[0m       \u001b[0mmessage\u001b[0m \u001b[0;34m=\u001b[0m \u001b[0mcompat\u001b[0m\u001b[0;34m.\u001b[0m\u001b[0mas_text\u001b[0m\u001b[0;34m(\u001b[0m\u001b[0me\u001b[0m\u001b[0;34m.\u001b[0m\u001b[0mmessage\u001b[0m\u001b[0;34m)\u001b[0m\u001b[0;34m\u001b[0m\u001b[0;34m\u001b[0m\u001b[0m\n",
      "\u001b[0;32m/usr/local/lib/python3.6/dist-packages/tensorflow/python/client/session.py\u001b[0m in \u001b[0;36m_run_fn\u001b[0;34m(session, feed_dict, fetch_list, target_list, options, run_metadata)\u001b[0m\n\u001b[1;32m   1338\u001b[0m         \u001b[0;32melse\u001b[0m\u001b[0;34m:\u001b[0m\u001b[0;34m\u001b[0m\u001b[0;34m\u001b[0m\u001b[0m\n\u001b[1;32m   1339\u001b[0m           return tf_session.TF_Run(session, options, feed_dict, fetch_list,\n\u001b[0;32m-> 1340\u001b[0;31m                                    target_list, status, run_metadata)\n\u001b[0m\u001b[1;32m   1341\u001b[0m \u001b[0;34m\u001b[0m\u001b[0m\n\u001b[1;32m   1342\u001b[0m     \u001b[0;32mdef\u001b[0m \u001b[0m_prun_fn\u001b[0m\u001b[0;34m(\u001b[0m\u001b[0msession\u001b[0m\u001b[0;34m,\u001b[0m \u001b[0mhandle\u001b[0m\u001b[0;34m,\u001b[0m \u001b[0mfeed_dict\u001b[0m\u001b[0;34m,\u001b[0m \u001b[0mfetch_list\u001b[0m\u001b[0;34m)\u001b[0m\u001b[0;34m:\u001b[0m\u001b[0;34m\u001b[0m\u001b[0;34m\u001b[0m\u001b[0m\n",
      "\u001b[0;31mKeyboardInterrupt\u001b[0m: "
     ]
    }
   ],
   "source": [
    "train('testing', generator, discriminator, gan_model, X_mnist_train[:20000], 100, 70)"
   ]
  },
  {
   "cell_type": "code",
   "execution_count": 103,
   "metadata": {
    "colab": {
     "base_uri": "https://localhost:8080/",
     "height": 146
    },
    "colab_type": "code",
    "id": "TTtAnc2Yr_zl",
    "outputId": "d75489c7-3a3d-4982-c8ae-f531375a440e"
   },
   "outputs": [
    {
     "data": {
      "image/png": "[encoded data removed]",
      "text/plain": [
       "<Figure size 1440x1440 with 10 Axes>"
      ]
     },
     "metadata": {},
     "output_type": "display_data"
    }
   ],
   "source": [
    "test_generator(generator, 100, 10)"
   ]
  },
  {
   "cell_type": "code",
   "execution_count": 119,
   "metadata": {},
   "outputs": [],
   "source": [
    "# https://machinelearningmastery.com/how-to-develop-a-generative-adversarial-network-for-an-mnist-handwritten-digits-from-scratch-in-keras/\n",
    "# Obavezno ukljuciti u MNIST barem 10000 primjera za učenje za efektivno učenje"
   ]
  },
  {
   "cell_type": "code",
   "execution_count": 72,
   "metadata": {},
   "outputs": [
    {
     "name": "stdout",
     "output_type": "stream",
     "text": [
      "1.6.0\n"
     ]
    }
   ],
   "source": [
    "print(tf.__version__)"
   ]
  },
  {
   "cell_type": "code",
   "execution_count": null,
   "metadata": {},
   "outputs": [],
   "source": []
  }
 ],
 "metadata": {
  "accelerator": "GPU",
  "colab": {
   "name": "MNISTGan.ipynb",
   "provenance": []
  },
  "kernelspec": {
   "display_name": "Python 3",
   "language": "python",
   "name": "python3"
  },
  "language_info": {
   "codemirror_mode": {
    "name": "ipython",
    "version": 3
   },
   "file_extension": ".py",
   "mimetype": "text/x-python",
   "name": "python",
   "nbconvert_exporter": "python",
   "pygments_lexer": "ipython3",
   "version": "3.6.8"
  }
 },
 "nbformat": 4,
 "nbformat_minor": 1
}
